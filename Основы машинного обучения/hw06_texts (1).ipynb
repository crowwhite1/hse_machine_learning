{
  "cells": [
    {
      "cell_type": "markdown",
      "metadata": {
        "id": "xrvOD02o3HvH"
      },
      "source": [
        "# Домашнее задание 6: классификация текстов"
      ]
    },
    {
      "cell_type": "markdown",
      "metadata": {
        "id": "sxwj_Iie3HvJ"
      },
      "source": [
        "В этом домашнем задании вам предстоит построить классификатор текстов!\n",
        "\n",
        "Данные мы будем использовать из Kaggle соревнования: https://www.kaggle.com/competitions/nlp-getting-started/data \n",
        "\n",
        "\n",
        "Оттуда надо скачать файл train.csv. На обучающую и тестовую выборки его поделим кодом ниже, менять его не надо!"
      ]
    },
    {
      "cell_type": "markdown",
      "metadata": {
        "id": "qQVgqLg93HvJ"
      },
      "source": [
        "Мы будем работать с датасетом постов из твиттера. Нам предстоит решать задачу бинарной классификации - определять содержатся ли в твитте информация о настоящей катастрофе/инциденте или нет."
      ]
    },
    {
      "cell_type": "code",
      "execution_count": 86,
      "metadata": {
        "id": "TcjEYh7R3HvK"
      },
      "outputs": [],
      "source": [
        "import numpy as np\n",
        "import pandas as pd\n",
        "from typing import  List\n",
        "import matplotlib.pyplot as plt\n",
        "import seaborn as sns\n",
        "from string import punctuation"
      ]
    },
    {
      "cell_type": "code",
      "execution_count": 87,
      "metadata": {
        "id": "mjwffGiB3HvK"
      },
      "outputs": [],
      "source": [
        "df = pd.read_csv('https://raw.githubusercontent.com/crowwhite1/HomeWorkForPythonHSE/main/train.csv')"
      ]
    },
    {
      "cell_type": "code",
      "execution_count": 88,
      "metadata": {
        "colab": {
          "base_uri": "https://localhost:8080/",
          "height": 206
        },
        "id": "v0uUoFTN3HvK",
        "outputId": "3454a682-21c4-400a-8e73-4bac0fc295b4"
      },
      "outputs": [
        {
          "output_type": "execute_result",
          "data": {
            "text/plain": [
              "   id keyword location                                               text  \\\n",
              "0   1     NaN      NaN  Our Deeds are the Reason of this #earthquake M...   \n",
              "1   4     NaN      NaN             Forest fire near La Ronge Sask. Canada   \n",
              "2   5     NaN      NaN  All residents asked to 'shelter in place' are ...   \n",
              "3   6     NaN      NaN  13,000 people receive #wildfires evacuation or...   \n",
              "4   7     NaN      NaN  Just got sent this photo from Ruby #Alaska as ...   \n",
              "\n",
              "   target  \n",
              "0       1  \n",
              "1       1  \n",
              "2       1  \n",
              "3       1  \n",
              "4       1  "
            ],
            "text/html": [
              "\n",
              "  <div id=\"df-a5f092e9-4b28-423c-8e52-870bca093fb8\">\n",
              "    <div class=\"colab-df-container\">\n",
              "      <div>\n",
              "<style scoped>\n",
              "    .dataframe tbody tr th:only-of-type {\n",
              "        vertical-align: middle;\n",
              "    }\n",
              "\n",
              "    .dataframe tbody tr th {\n",
              "        vertical-align: top;\n",
              "    }\n",
              "\n",
              "    .dataframe thead th {\n",
              "        text-align: right;\n",
              "    }\n",
              "</style>\n",
              "<table border=\"1\" class=\"dataframe\">\n",
              "  <thead>\n",
              "    <tr style=\"text-align: right;\">\n",
              "      <th></th>\n",
              "      <th>id</th>\n",
              "      <th>keyword</th>\n",
              "      <th>location</th>\n",
              "      <th>text</th>\n",
              "      <th>target</th>\n",
              "    </tr>\n",
              "  </thead>\n",
              "  <tbody>\n",
              "    <tr>\n",
              "      <th>0</th>\n",
              "      <td>1</td>\n",
              "      <td>NaN</td>\n",
              "      <td>NaN</td>\n",
              "      <td>Our Deeds are the Reason of this #earthquake M...</td>\n",
              "      <td>1</td>\n",
              "    </tr>\n",
              "    <tr>\n",
              "      <th>1</th>\n",
              "      <td>4</td>\n",
              "      <td>NaN</td>\n",
              "      <td>NaN</td>\n",
              "      <td>Forest fire near La Ronge Sask. Canada</td>\n",
              "      <td>1</td>\n",
              "    </tr>\n",
              "    <tr>\n",
              "      <th>2</th>\n",
              "      <td>5</td>\n",
              "      <td>NaN</td>\n",
              "      <td>NaN</td>\n",
              "      <td>All residents asked to 'shelter in place' are ...</td>\n",
              "      <td>1</td>\n",
              "    </tr>\n",
              "    <tr>\n",
              "      <th>3</th>\n",
              "      <td>6</td>\n",
              "      <td>NaN</td>\n",
              "      <td>NaN</td>\n",
              "      <td>13,000 people receive #wildfires evacuation or...</td>\n",
              "      <td>1</td>\n",
              "    </tr>\n",
              "    <tr>\n",
              "      <th>4</th>\n",
              "      <td>7</td>\n",
              "      <td>NaN</td>\n",
              "      <td>NaN</td>\n",
              "      <td>Just got sent this photo from Ruby #Alaska as ...</td>\n",
              "      <td>1</td>\n",
              "    </tr>\n",
              "  </tbody>\n",
              "</table>\n",
              "</div>\n",
              "      <button class=\"colab-df-convert\" onclick=\"convertToInteractive('df-a5f092e9-4b28-423c-8e52-870bca093fb8')\"\n",
              "              title=\"Convert this dataframe to an interactive table.\"\n",
              "              style=\"display:none;\">\n",
              "        \n",
              "  <svg xmlns=\"http://www.w3.org/2000/svg\" height=\"24px\"viewBox=\"0 0 24 24\"\n",
              "       width=\"24px\">\n",
              "    <path d=\"M0 0h24v24H0V0z\" fill=\"none\"/>\n",
              "    <path d=\"M18.56 5.44l.94 2.06.94-2.06 2.06-.94-2.06-.94-.94-2.06-.94 2.06-2.06.94zm-11 1L8.5 8.5l.94-2.06 2.06-.94-2.06-.94L8.5 2.5l-.94 2.06-2.06.94zm10 10l.94 2.06.94-2.06 2.06-.94-2.06-.94-.94-2.06-.94 2.06-2.06.94z\"/><path d=\"M17.41 7.96l-1.37-1.37c-.4-.4-.92-.59-1.43-.59-.52 0-1.04.2-1.43.59L10.3 9.45l-7.72 7.72c-.78.78-.78 2.05 0 2.83L4 21.41c.39.39.9.59 1.41.59.51 0 1.02-.2 1.41-.59l7.78-7.78 2.81-2.81c.8-.78.8-2.07 0-2.86zM5.41 20L4 18.59l7.72-7.72 1.47 1.35L5.41 20z\"/>\n",
              "  </svg>\n",
              "      </button>\n",
              "      \n",
              "  <style>\n",
              "    .colab-df-container {\n",
              "      display:flex;\n",
              "      flex-wrap:wrap;\n",
              "      gap: 12px;\n",
              "    }\n",
              "\n",
              "    .colab-df-convert {\n",
              "      background-color: #E8F0FE;\n",
              "      border: none;\n",
              "      border-radius: 50%;\n",
              "      cursor: pointer;\n",
              "      display: none;\n",
              "      fill: #1967D2;\n",
              "      height: 32px;\n",
              "      padding: 0 0 0 0;\n",
              "      width: 32px;\n",
              "    }\n",
              "\n",
              "    .colab-df-convert:hover {\n",
              "      background-color: #E2EBFA;\n",
              "      box-shadow: 0px 1px 2px rgba(60, 64, 67, 0.3), 0px 1px 3px 1px rgba(60, 64, 67, 0.15);\n",
              "      fill: #174EA6;\n",
              "    }\n",
              "\n",
              "    [theme=dark] .colab-df-convert {\n",
              "      background-color: #3B4455;\n",
              "      fill: #D2E3FC;\n",
              "    }\n",
              "\n",
              "    [theme=dark] .colab-df-convert:hover {\n",
              "      background-color: #434B5C;\n",
              "      box-shadow: 0px 1px 3px 1px rgba(0, 0, 0, 0.15);\n",
              "      filter: drop-shadow(0px 1px 2px rgba(0, 0, 0, 0.3));\n",
              "      fill: #FFFFFF;\n",
              "    }\n",
              "  </style>\n",
              "\n",
              "      <script>\n",
              "        const buttonEl =\n",
              "          document.querySelector('#df-a5f092e9-4b28-423c-8e52-870bca093fb8 button.colab-df-convert');\n",
              "        buttonEl.style.display =\n",
              "          google.colab.kernel.accessAllowed ? 'block' : 'none';\n",
              "\n",
              "        async function convertToInteractive(key) {\n",
              "          const element = document.querySelector('#df-a5f092e9-4b28-423c-8e52-870bca093fb8');\n",
              "          const dataTable =\n",
              "            await google.colab.kernel.invokeFunction('convertToInteractive',\n",
              "                                                     [key], {});\n",
              "          if (!dataTable) return;\n",
              "\n",
              "          const docLinkHtml = 'Like what you see? Visit the ' +\n",
              "            '<a target=\"_blank\" href=https://colab.research.google.com/notebooks/data_table.ipynb>data table notebook</a>'\n",
              "            + ' to learn more about interactive tables.';\n",
              "          element.innerHTML = '';\n",
              "          dataTable['output_type'] = 'display_data';\n",
              "          await google.colab.output.renderOutput(dataTable, element);\n",
              "          const docLink = document.createElement('div');\n",
              "          docLink.innerHTML = docLinkHtml;\n",
              "          element.appendChild(docLink);\n",
              "        }\n",
              "      </script>\n",
              "    </div>\n",
              "  </div>\n",
              "  "
            ]
          },
          "metadata": {},
          "execution_count": 88
        }
      ],
      "source": [
        "df.head()"
      ]
    },
    {
      "cell_type": "code",
      "execution_count": 89,
      "metadata": {
        "id": "f49NdWY23HvL"
      },
      "outputs": [],
      "source": [
        "from sklearn.model_selection import train_test_split\n",
        "train, test = train_test_split(df, test_size=0.3, random_state=42)"
      ]
    },
    {
      "cell_type": "markdown",
      "metadata": {
        "id": "YlLemInT3HvL"
      },
      "source": [
        "## Задание 1 (0.5 балла)\n",
        "\n",
        "Выведете на экран информацию о пропусках в данных. Если пропуски присутствуют заполните их пустой строкой."
      ]
    },
    {
      "cell_type": "code",
      "source": [
        "df.isna().any()"
      ],
      "metadata": {
        "id": "96aJxmkV4105",
        "colab": {
          "base_uri": "https://localhost:8080/"
        },
        "outputId": "0f429dcf-8578-4c13-b081-24f6d451f6f7"
      },
      "execution_count": 90,
      "outputs": [
        {
          "output_type": "execute_result",
          "data": {
            "text/plain": [
              "id          False\n",
              "keyword      True\n",
              "location     True\n",
              "text        False\n",
              "target      False\n",
              "dtype: bool"
            ]
          },
          "metadata": {},
          "execution_count": 90
        }
      ]
    },
    {
      "cell_type": "code",
      "source": [
        "df.fillna(\"\", inplace=True)\n",
        "df.head()"
      ],
      "metadata": {
        "colab": {
          "base_uri": "https://localhost:8080/",
          "height": 206
        },
        "id": "lsSU8vmMZ2W8",
        "outputId": "d7dae062-f9d6-49d5-eee0-f93bfec6ce3f"
      },
      "execution_count": 91,
      "outputs": [
        {
          "output_type": "execute_result",
          "data": {
            "text/plain": [
              "   id keyword location                                               text  \\\n",
              "0   1                   Our Deeds are the Reason of this #earthquake M...   \n",
              "1   4                              Forest fire near La Ronge Sask. Canada   \n",
              "2   5                   All residents asked to 'shelter in place' are ...   \n",
              "3   6                   13,000 people receive #wildfires evacuation or...   \n",
              "4   7                   Just got sent this photo from Ruby #Alaska as ...   \n",
              "\n",
              "   target  \n",
              "0       1  \n",
              "1       1  \n",
              "2       1  \n",
              "3       1  \n",
              "4       1  "
            ],
            "text/html": [
              "\n",
              "  <div id=\"df-e666a37f-a122-4464-a32e-6a69565bc2cc\">\n",
              "    <div class=\"colab-df-container\">\n",
              "      <div>\n",
              "<style scoped>\n",
              "    .dataframe tbody tr th:only-of-type {\n",
              "        vertical-align: middle;\n",
              "    }\n",
              "\n",
              "    .dataframe tbody tr th {\n",
              "        vertical-align: top;\n",
              "    }\n",
              "\n",
              "    .dataframe thead th {\n",
              "        text-align: right;\n",
              "    }\n",
              "</style>\n",
              "<table border=\"1\" class=\"dataframe\">\n",
              "  <thead>\n",
              "    <tr style=\"text-align: right;\">\n",
              "      <th></th>\n",
              "      <th>id</th>\n",
              "      <th>keyword</th>\n",
              "      <th>location</th>\n",
              "      <th>text</th>\n",
              "      <th>target</th>\n",
              "    </tr>\n",
              "  </thead>\n",
              "  <tbody>\n",
              "    <tr>\n",
              "      <th>0</th>\n",
              "      <td>1</td>\n",
              "      <td></td>\n",
              "      <td></td>\n",
              "      <td>Our Deeds are the Reason of this #earthquake M...</td>\n",
              "      <td>1</td>\n",
              "    </tr>\n",
              "    <tr>\n",
              "      <th>1</th>\n",
              "      <td>4</td>\n",
              "      <td></td>\n",
              "      <td></td>\n",
              "      <td>Forest fire near La Ronge Sask. Canada</td>\n",
              "      <td>1</td>\n",
              "    </tr>\n",
              "    <tr>\n",
              "      <th>2</th>\n",
              "      <td>5</td>\n",
              "      <td></td>\n",
              "      <td></td>\n",
              "      <td>All residents asked to 'shelter in place' are ...</td>\n",
              "      <td>1</td>\n",
              "    </tr>\n",
              "    <tr>\n",
              "      <th>3</th>\n",
              "      <td>6</td>\n",
              "      <td></td>\n",
              "      <td></td>\n",
              "      <td>13,000 people receive #wildfires evacuation or...</td>\n",
              "      <td>1</td>\n",
              "    </tr>\n",
              "    <tr>\n",
              "      <th>4</th>\n",
              "      <td>7</td>\n",
              "      <td></td>\n",
              "      <td></td>\n",
              "      <td>Just got sent this photo from Ruby #Alaska as ...</td>\n",
              "      <td>1</td>\n",
              "    </tr>\n",
              "  </tbody>\n",
              "</table>\n",
              "</div>\n",
              "      <button class=\"colab-df-convert\" onclick=\"convertToInteractive('df-e666a37f-a122-4464-a32e-6a69565bc2cc')\"\n",
              "              title=\"Convert this dataframe to an interactive table.\"\n",
              "              style=\"display:none;\">\n",
              "        \n",
              "  <svg xmlns=\"http://www.w3.org/2000/svg\" height=\"24px\"viewBox=\"0 0 24 24\"\n",
              "       width=\"24px\">\n",
              "    <path d=\"M0 0h24v24H0V0z\" fill=\"none\"/>\n",
              "    <path d=\"M18.56 5.44l.94 2.06.94-2.06 2.06-.94-2.06-.94-.94-2.06-.94 2.06-2.06.94zm-11 1L8.5 8.5l.94-2.06 2.06-.94-2.06-.94L8.5 2.5l-.94 2.06-2.06.94zm10 10l.94 2.06.94-2.06 2.06-.94-2.06-.94-.94-2.06-.94 2.06-2.06.94z\"/><path d=\"M17.41 7.96l-1.37-1.37c-.4-.4-.92-.59-1.43-.59-.52 0-1.04.2-1.43.59L10.3 9.45l-7.72 7.72c-.78.78-.78 2.05 0 2.83L4 21.41c.39.39.9.59 1.41.59.51 0 1.02-.2 1.41-.59l7.78-7.78 2.81-2.81c.8-.78.8-2.07 0-2.86zM5.41 20L4 18.59l7.72-7.72 1.47 1.35L5.41 20z\"/>\n",
              "  </svg>\n",
              "      </button>\n",
              "      \n",
              "  <style>\n",
              "    .colab-df-container {\n",
              "      display:flex;\n",
              "      flex-wrap:wrap;\n",
              "      gap: 12px;\n",
              "    }\n",
              "\n",
              "    .colab-df-convert {\n",
              "      background-color: #E8F0FE;\n",
              "      border: none;\n",
              "      border-radius: 50%;\n",
              "      cursor: pointer;\n",
              "      display: none;\n",
              "      fill: #1967D2;\n",
              "      height: 32px;\n",
              "      padding: 0 0 0 0;\n",
              "      width: 32px;\n",
              "    }\n",
              "\n",
              "    .colab-df-convert:hover {\n",
              "      background-color: #E2EBFA;\n",
              "      box-shadow: 0px 1px 2px rgba(60, 64, 67, 0.3), 0px 1px 3px 1px rgba(60, 64, 67, 0.15);\n",
              "      fill: #174EA6;\n",
              "    }\n",
              "\n",
              "    [theme=dark] .colab-df-convert {\n",
              "      background-color: #3B4455;\n",
              "      fill: #D2E3FC;\n",
              "    }\n",
              "\n",
              "    [theme=dark] .colab-df-convert:hover {\n",
              "      background-color: #434B5C;\n",
              "      box-shadow: 0px 1px 3px 1px rgba(0, 0, 0, 0.15);\n",
              "      filter: drop-shadow(0px 1px 2px rgba(0, 0, 0, 0.3));\n",
              "      fill: #FFFFFF;\n",
              "    }\n",
              "  </style>\n",
              "\n",
              "      <script>\n",
              "        const buttonEl =\n",
              "          document.querySelector('#df-e666a37f-a122-4464-a32e-6a69565bc2cc button.colab-df-convert');\n",
              "        buttonEl.style.display =\n",
              "          google.colab.kernel.accessAllowed ? 'block' : 'none';\n",
              "\n",
              "        async function convertToInteractive(key) {\n",
              "          const element = document.querySelector('#df-e666a37f-a122-4464-a32e-6a69565bc2cc');\n",
              "          const dataTable =\n",
              "            await google.colab.kernel.invokeFunction('convertToInteractive',\n",
              "                                                     [key], {});\n",
              "          if (!dataTable) return;\n",
              "\n",
              "          const docLinkHtml = 'Like what you see? Visit the ' +\n",
              "            '<a target=\"_blank\" href=https://colab.research.google.com/notebooks/data_table.ipynb>data table notebook</a>'\n",
              "            + ' to learn more about interactive tables.';\n",
              "          element.innerHTML = '';\n",
              "          dataTable['output_type'] = 'display_data';\n",
              "          await google.colab.output.renderOutput(dataTable, element);\n",
              "          const docLink = document.createElement('div');\n",
              "          docLink.innerHTML = docLinkHtml;\n",
              "          element.appendChild(docLink);\n",
              "        }\n",
              "      </script>\n",
              "    </div>\n",
              "  </div>\n",
              "  "
            ]
          },
          "metadata": {},
          "execution_count": 91
        }
      ]
    },
    {
      "cell_type": "code",
      "source": [
        "df.isna().any()"
      ],
      "metadata": {
        "colab": {
          "base_uri": "https://localhost:8080/"
        },
        "id": "MJAVynVxcmuw",
        "outputId": "ccd5b18e-3f8f-4109-ee32-704ce511c457"
      },
      "execution_count": 92,
      "outputs": [
        {
          "output_type": "execute_result",
          "data": {
            "text/plain": [
              "id          False\n",
              "keyword     False\n",
              "location    False\n",
              "text        False\n",
              "target      False\n",
              "dtype: bool"
            ]
          },
          "metadata": {},
          "execution_count": 92
        }
      ]
    },
    {
      "cell_type": "code",
      "source": [
        "train, test = train_test_split(df, test_size=0.3, random_state=42)"
      ],
      "metadata": {
        "id": "b3ajPEZ2bWMa"
      },
      "execution_count": 93,
      "outputs": []
    },
    {
      "cell_type": "markdown",
      "metadata": {
        "id": "A8CPBUal3HvL"
      },
      "source": [
        "## Задание 2 (1 балл)\n",
        "Давайте немного посмотрим на наши данные. Визуализируйте (где явно просят) или выведете информацию о следующем:\n",
        "\n",
        "1. Какое распределение классов в обучающей выборке?\n"
      ]
    },
    {
      "cell_type": "markdown",
      "source": [
        "2. Посмотрите на колонку \"keyword\" - возьмите 10 наиболее встречающихся значений, постройте ступенчатую диаграмму распределения классов в зависимости от значения keyword, сделайте выводы."
      ],
      "metadata": {
        "id": "f08KScbP5q2y"
      }
    },
    {
      "cell_type": "code",
      "source": [
        "popular_keywords = dict(train['keyword'].value_counts()[:10])"
      ],
      "metadata": {
        "id": "WSCb0htu5w_Y"
      },
      "execution_count": 94,
      "outputs": []
    },
    {
      "cell_type": "code",
      "source": [
        "fig = plt.figure(figsize = (15,10))\n",
        "sns.histplot(x = 'keyword', hue = 'target', data = train[train['keyword'].isin(popular_keywords.keys())], multiple='layer', palette=['red','green'])\n",
        "plt.show()"
      ],
      "metadata": {
        "colab": {
          "base_uri": "https://localhost:8080/",
          "height": 850
        },
        "id": "r9wSwm4L9REm",
        "outputId": "3d8ed724-5e5a-4ff1-c0fd-d1c8e8353467"
      },
      "execution_count": 95,
      "outputs": [
        {
          "output_type": "display_data",
          "data": {
            "text/plain": [
              "<Figure size 1500x1000 with 1 Axes>"
            ],
            "image/png": "[encoded data removed]"
          },
          "metadata": {}
        }
      ]
    },
    {
      "cell_type": "markdown",
      "source": [
        "**Выводы**: Количество 10-ти наиболее встречающихся значений примерно одинаковое, но вот распределение сильно отличается. Некоторые\n",
        "ключевые слова чаще встречаются, если катастрофа упоминалась: так, если в твите есть слово wreckage, можно сказать, что\n",
        "там упоминается о катастрофе. И наоборот: если ключевым было слово siren, то далеко не факт, что пост был о катастрофе, потому\n",
        "что оно чаще указывает на обратное"
      ],
      "metadata": {
        "id": "l4al3g9E-P09"
      }
    },
    {
      "cell_type": "markdown",
      "metadata": {
        "id": "c006nNBP3HvM"
      },
      "source": [
        "## Задание 3 (0.5 балла) \n",
        "\n",
        "В этом задании предлагается объединить все три текстовых столбца в один (просто сконкатенировать cтроки) и убрать столбец с индексом."
      ]
    },
    {
      "cell_type": "code",
      "source": [
        "train.loc[[6590, 7122, 2769]]"
      ],
      "metadata": {
        "colab": {
          "base_uri": "https://localhost:8080/",
          "height": 143
        },
        "id": "GdF9gFmL-c0r",
        "outputId": "eb2d7b62-d8a8-45d5-f13a-059eb5a56466"
      },
      "execution_count": 96,
      "outputs": [
        {
          "output_type": "execute_result",
          "data": {
            "text/plain": [
              "         id          keyword      location  \\\n",
              "6590   9436        survivors  Marietta, GA   \n",
              "7122  10203  violent%20storm                 \n",
              "2769   3980      devastation  Atlanta g.a.   \n",
              "\n",
              "                                                   text  target  \n",
              "6590  Stemming from my #Cubs talk- the team rosters ...       1  \n",
              "7122  If you were the NWS wth a rotating storm w/ a ...       1  \n",
              "2769  http://t.co/Gxgm1T3W0J From Devastation to Ela...       0  "
            ],
            "text/html": [
              "\n",
              "  <div id=\"df-8f021ffe-1a22-4c0e-ab61-5a024f1d0df2\">\n",
              "    <div class=\"colab-df-container\">\n",
              "      <div>\n",
              "<style scoped>\n",
              "    .dataframe tbody tr th:only-of-type {\n",
              "        vertical-align: middle;\n",
              "    }\n",
              "\n",
              "    .dataframe tbody tr th {\n",
              "        vertical-align: top;\n",
              "    }\n",
              "\n",
              "    .dataframe thead th {\n",
              "        text-align: right;\n",
              "    }\n",
              "</style>\n",
              "<table border=\"1\" class=\"dataframe\">\n",
              "  <thead>\n",
              "    <tr style=\"text-align: right;\">\n",
              "      <th></th>\n",
              "      <th>id</th>\n",
              "      <th>keyword</th>\n",
              "      <th>location</th>\n",
              "      <th>text</th>\n",
              "      <th>target</th>\n",
              "    </tr>\n",
              "  </thead>\n",
              "  <tbody>\n",
              "    <tr>\n",
              "      <th>6590</th>\n",
              "      <td>9436</td>\n",
              "      <td>survivors</td>\n",
              "      <td>Marietta, GA</td>\n",
              "      <td>Stemming from my #Cubs talk- the team rosters ...</td>\n",
              "      <td>1</td>\n",
              "    </tr>\n",
              "    <tr>\n",
              "      <th>7122</th>\n",
              "      <td>10203</td>\n",
              "      <td>violent%20storm</td>\n",
              "      <td></td>\n",
              "      <td>If you were the NWS wth a rotating storm w/ a ...</td>\n",
              "      <td>1</td>\n",
              "    </tr>\n",
              "    <tr>\n",
              "      <th>2769</th>\n",
              "      <td>3980</td>\n",
              "      <td>devastation</td>\n",
              "      <td>Atlanta g.a.</td>\n",
              "      <td>http://t.co/Gxgm1T3W0J From Devastation to Ela...</td>\n",
              "      <td>0</td>\n",
              "    </tr>\n",
              "  </tbody>\n",
              "</table>\n",
              "</div>\n",
              "      <button class=\"colab-df-convert\" onclick=\"convertToInteractive('df-8f021ffe-1a22-4c0e-ab61-5a024f1d0df2')\"\n",
              "              title=\"Convert this dataframe to an interactive table.\"\n",
              "              style=\"display:none;\">\n",
              "        \n",
              "  <svg xmlns=\"http://www.w3.org/2000/svg\" height=\"24px\"viewBox=\"0 0 24 24\"\n",
              "       width=\"24px\">\n",
              "    <path d=\"M0 0h24v24H0V0z\" fill=\"none\"/>\n",
              "    <path d=\"M18.56 5.44l.94 2.06.94-2.06 2.06-.94-2.06-.94-.94-2.06-.94 2.06-2.06.94zm-11 1L8.5 8.5l.94-2.06 2.06-.94-2.06-.94L8.5 2.5l-.94 2.06-2.06.94zm10 10l.94 2.06.94-2.06 2.06-.94-2.06-.94-.94-2.06-.94 2.06-2.06.94z\"/><path d=\"M17.41 7.96l-1.37-1.37c-.4-.4-.92-.59-1.43-.59-.52 0-1.04.2-1.43.59L10.3 9.45l-7.72 7.72c-.78.78-.78 2.05 0 2.83L4 21.41c.39.39.9.59 1.41.59.51 0 1.02-.2 1.41-.59l7.78-7.78 2.81-2.81c.8-.78.8-2.07 0-2.86zM5.41 20L4 18.59l7.72-7.72 1.47 1.35L5.41 20z\"/>\n",
              "  </svg>\n",
              "      </button>\n",
              "      \n",
              "  <style>\n",
              "    .colab-df-container {\n",
              "      display:flex;\n",
              "      flex-wrap:wrap;\n",
              "      gap: 12px;\n",
              "    }\n",
              "\n",
              "    .colab-df-convert {\n",
              "      background-color: #E8F0FE;\n",
              "      border: none;\n",
              "      border-radius: 50%;\n",
              "      cursor: pointer;\n",
              "      display: none;\n",
              "      fill: #1967D2;\n",
              "      height: 32px;\n",
              "      padding: 0 0 0 0;\n",
              "      width: 32px;\n",
              "    }\n",
              "\n",
              "    .colab-df-convert:hover {\n",
              "      background-color: #E2EBFA;\n",
              "      box-shadow: 0px 1px 2px rgba(60, 64, 67, 0.3), 0px 1px 3px 1px rgba(60, 64, 67, 0.15);\n",
              "      fill: #174EA6;\n",
              "    }\n",
              "\n",
              "    [theme=dark] .colab-df-convert {\n",
              "      background-color: #3B4455;\n",
              "      fill: #D2E3FC;\n",
              "    }\n",
              "\n",
              "    [theme=dark] .colab-df-convert:hover {\n",
              "      background-color: #434B5C;\n",
              "      box-shadow: 0px 1px 3px 1px rgba(0, 0, 0, 0.15);\n",
              "      filter: drop-shadow(0px 1px 2px rgba(0, 0, 0, 0.3));\n",
              "      fill: #FFFFFF;\n",
              "    }\n",
              "  </style>\n",
              "\n",
              "      <script>\n",
              "        const buttonEl =\n",
              "          document.querySelector('#df-8f021ffe-1a22-4c0e-ab61-5a024f1d0df2 button.colab-df-convert');\n",
              "        buttonEl.style.display =\n",
              "          google.colab.kernel.accessAllowed ? 'block' : 'none';\n",
              "\n",
              "        async function convertToInteractive(key) {\n",
              "          const element = document.querySelector('#df-8f021ffe-1a22-4c0e-ab61-5a024f1d0df2');\n",
              "          const dataTable =\n",
              "            await google.colab.kernel.invokeFunction('convertToInteractive',\n",
              "                                                     [key], {});\n",
              "          if (!dataTable) return;\n",
              "\n",
              "          const docLinkHtml = 'Like what you see? Visit the ' +\n",
              "            '<a target=\"_blank\" href=https://colab.research.google.com/notebooks/data_table.ipynb>data table notebook</a>'\n",
              "            + ' to learn more about interactive tables.';\n",
              "          element.innerHTML = '';\n",
              "          dataTable['output_type'] = 'display_data';\n",
              "          await google.colab.output.renderOutput(dataTable, element);\n",
              "          const docLink = document.createElement('div');\n",
              "          docLink.innerHTML = docLinkHtml;\n",
              "          element.appendChild(docLink);\n",
              "        }\n",
              "      </script>\n",
              "    </div>\n",
              "  </div>\n",
              "  "
            ]
          },
          "metadata": {},
          "execution_count": 96
        }
      ]
    },
    {
      "cell_type": "code",
      "source": [
        "train[\"keyword\"] = train[\"keyword\"].apply(lambda x: x + ' ' if x != \"\" else x)\n",
        "train[\"location\"] = train[\"location\"].apply(lambda x: x + ' ' if x != \"\" else x)\n",
        "train[\"text\"] = train[[\"keyword\", \"location\", \"text\"]].apply(\"\".join, axis=1)\n",
        "train.drop([\"keyword\", \"location\", \"id\"], axis=1, inplace=True)"
      ],
      "metadata": {
        "id": "4LOuHgjCgOCU"
      },
      "execution_count": 97,
      "outputs": []
    },
    {
      "cell_type": "code",
      "source": [
        "test[\"keyword\"] = test[\"keyword\"].apply(lambda x: x + ' ' if x != \"\" else x)\n",
        "test[\"location\"] = test[\"location\"].apply(lambda x: x + ' ' if x != \"\" else x)\n",
        "test[\"text\"] = test[[\"keyword\", \"location\", \"text\"]].apply(\"\".join, axis=1)\n",
        "test.drop([\"keyword\", \"location\", \"id\"], axis=1, inplace=True)"
      ],
      "metadata": {
        "id": "lwwJKX_l-eoh"
      },
      "execution_count": 98,
      "outputs": []
    },
    {
      "cell_type": "code",
      "source": [
        "train.loc[[6590, 7122, 2769]]"
      ],
      "metadata": {
        "colab": {
          "base_uri": "https://localhost:8080/",
          "height": 143
        },
        "id": "jk7P70XX_CpT",
        "outputId": "7e81368d-face-45b8-f50e-1a1df4743621"
      },
      "execution_count": 99,
      "outputs": [
        {
          "output_type": "execute_result",
          "data": {
            "text/plain": [
              "                                                   text  target\n",
              "6590  survivors Marietta, GA Stemming from my #Cubs ...       1\n",
              "7122  violent%20storm If you were the NWS wth a rota...       1\n",
              "2769  devastation Atlanta g.a. http://t.co/Gxgm1T3W0...       0"
            ],
            "text/html": [
              "\n",
              "  <div id=\"df-d48287b7-5467-413f-9399-06b8a5d220ff\">\n",
              "    <div class=\"colab-df-container\">\n",
              "      <div>\n",
              "<style scoped>\n",
              "    .dataframe tbody tr th:only-of-type {\n",
              "        vertical-align: middle;\n",
              "    }\n",
              "\n",
              "    .dataframe tbody tr th {\n",
              "        vertical-align: top;\n",
              "    }\n",
              "\n",
              "    .dataframe thead th {\n",
              "        text-align: right;\n",
              "    }\n",
              "</style>\n",
              "<table border=\"1\" class=\"dataframe\">\n",
              "  <thead>\n",
              "    <tr style=\"text-align: right;\">\n",
              "      <th></th>\n",
              "      <th>text</th>\n",
              "      <th>target</th>\n",
              "    </tr>\n",
              "  </thead>\n",
              "  <tbody>\n",
              "    <tr>\n",
              "      <th>6590</th>\n",
              "      <td>survivors Marietta, GA Stemming from my #Cubs ...</td>\n",
              "      <td>1</td>\n",
              "    </tr>\n",
              "    <tr>\n",
              "      <th>7122</th>\n",
              "      <td>violent%20storm If you were the NWS wth a rota...</td>\n",
              "      <td>1</td>\n",
              "    </tr>\n",
              "    <tr>\n",
              "      <th>2769</th>\n",
              "      <td>devastation Atlanta g.a. http://t.co/Gxgm1T3W0...</td>\n",
              "      <td>0</td>\n",
              "    </tr>\n",
              "  </tbody>\n",
              "</table>\n",
              "</div>\n",
              "      <button class=\"colab-df-convert\" onclick=\"convertToInteractive('df-d48287b7-5467-413f-9399-06b8a5d220ff')\"\n",
              "              title=\"Convert this dataframe to an interactive table.\"\n",
              "              style=\"display:none;\">\n",
              "        \n",
              "  <svg xmlns=\"http://www.w3.org/2000/svg\" height=\"24px\"viewBox=\"0 0 24 24\"\n",
              "       width=\"24px\">\n",
              "    <path d=\"M0 0h24v24H0V0z\" fill=\"none\"/>\n",
              "    <path d=\"M18.56 5.44l.94 2.06.94-2.06 2.06-.94-2.06-.94-.94-2.06-.94 2.06-2.06.94zm-11 1L8.5 8.5l.94-2.06 2.06-.94-2.06-.94L8.5 2.5l-.94 2.06-2.06.94zm10 10l.94 2.06.94-2.06 2.06-.94-2.06-.94-.94-2.06-.94 2.06-2.06.94z\"/><path d=\"M17.41 7.96l-1.37-1.37c-.4-.4-.92-.59-1.43-.59-.52 0-1.04.2-1.43.59L10.3 9.45l-7.72 7.72c-.78.78-.78 2.05 0 2.83L4 21.41c.39.39.9.59 1.41.59.51 0 1.02-.2 1.41-.59l7.78-7.78 2.81-2.81c.8-.78.8-2.07 0-2.86zM5.41 20L4 18.59l7.72-7.72 1.47 1.35L5.41 20z\"/>\n",
              "  </svg>\n",
              "      </button>\n",
              "      \n",
              "  <style>\n",
              "    .colab-df-container {\n",
              "      display:flex;\n",
              "      flex-wrap:wrap;\n",
              "      gap: 12px;\n",
              "    }\n",
              "\n",
              "    .colab-df-convert {\n",
              "      background-color: #E8F0FE;\n",
              "      border: none;\n",
              "      border-radius: 50%;\n",
              "      cursor: pointer;\n",
              "      display: none;\n",
              "      fill: #1967D2;\n",
              "      height: 32px;\n",
              "      padding: 0 0 0 0;\n",
              "      width: 32px;\n",
              "    }\n",
              "\n",
              "    .colab-df-convert:hover {\n",
              "      background-color: #E2EBFA;\n",
              "      box-shadow: 0px 1px 2px rgba(60, 64, 67, 0.3), 0px 1px 3px 1px rgba(60, 64, 67, 0.15);\n",
              "      fill: #174EA6;\n",
              "    }\n",
              "\n",
              "    [theme=dark] .colab-df-convert {\n",
              "      background-color: #3B4455;\n",
              "      fill: #D2E3FC;\n",
              "    }\n",
              "\n",
              "    [theme=dark] .colab-df-convert:hover {\n",
              "      background-color: #434B5C;\n",
              "      box-shadow: 0px 1px 3px 1px rgba(0, 0, 0, 0.15);\n",
              "      filter: drop-shadow(0px 1px 2px rgba(0, 0, 0, 0.3));\n",
              "      fill: #FFFFFF;\n",
              "    }\n",
              "  </style>\n",
              "\n",
              "      <script>\n",
              "        const buttonEl =\n",
              "          document.querySelector('#df-d48287b7-5467-413f-9399-06b8a5d220ff button.colab-df-convert');\n",
              "        buttonEl.style.display =\n",
              "          google.colab.kernel.accessAllowed ? 'block' : 'none';\n",
              "\n",
              "        async function convertToInteractive(key) {\n",
              "          const element = document.querySelector('#df-d48287b7-5467-413f-9399-06b8a5d220ff');\n",
              "          const dataTable =\n",
              "            await google.colab.kernel.invokeFunction('convertToInteractive',\n",
              "                                                     [key], {});\n",
              "          if (!dataTable) return;\n",
              "\n",
              "          const docLinkHtml = 'Like what you see? Visit the ' +\n",
              "            '<a target=\"_blank\" href=https://colab.research.google.com/notebooks/data_table.ipynb>data table notebook</a>'\n",
              "            + ' to learn more about interactive tables.';\n",
              "          element.innerHTML = '';\n",
              "          dataTable['output_type'] = 'display_data';\n",
              "          await google.colab.output.renderOutput(dataTable, element);\n",
              "          const docLink = document.createElement('div');\n",
              "          docLink.innerHTML = docLinkHtml;\n",
              "          element.appendChild(docLink);\n",
              "        }\n",
              "      </script>\n",
              "    </div>\n",
              "  </div>\n",
              "  "
            ]
          },
          "metadata": {},
          "execution_count": 99
        }
      ]
    },
    {
      "cell_type": "markdown",
      "metadata": {
        "id": "ViXdGTxP3HvM"
      },
      "source": [
        "## Задание 4 (0.5 балла)\n",
        "\n",
        "Далее мы будем пока работать только с train частью.\n",
        "\n",
        "1. Предобработайте данные (train часть) с помощью CountVectorizer.\n",
        "2. Какого размера получилась матрица?\n"
      ]
    },
    {
      "cell_type": "code",
      "source": [
        "from sklearn.feature_extraction.text import CountVectorizer\n",
        "\n",
        "vectorizer = CountVectorizer(stop_words = 'english')\n",
        "vectorized_train = vectorizer.fit_transform(train.loc[:,'text'])"
      ],
      "metadata": {
        "id": "oB1MTqUVAbPA"
      },
      "execution_count": 100,
      "outputs": []
    },
    {
      "cell_type": "code",
      "source": [
        "vectorized_train.shape"
      ],
      "metadata": {
        "colab": {
          "base_uri": "https://localhost:8080/"
        },
        "id": "Jtnugx7zhsBR",
        "outputId": "d82b3eb7-138b-417a-9949-54d735558efd"
      },
      "execution_count": 101,
      "outputs": [
        {
          "output_type": "execute_result",
          "data": {
            "text/plain": [
              "(5329, 18181)"
            ]
          },
          "metadata": {},
          "execution_count": 101
        }
      ]
    },
    {
      "cell_type": "markdown",
      "metadata": {
        "id": "A4waLlnC3HvM"
      },
      "source": [
        "## Задание 5 (1 балл)\n",
        "\n",
        "В предыдущем пункте у вас должна была получиться достаточно большая матрица.\n",
        "Если вы взгляните на текст, то увидете, что там есть множество специальных символов, ссылок и прочего мусора.\n",
        "\n",
        "Давайте также посмотрим на словарь, который получился в результате построения CountVectorizer, его можно найти в поле vocabulary_ инстанса этого класса. Давайте напишем функцию, которая печает ответы на следующие вопросы:\n",
        "\n",
        "1. Найдите в этом словаре все слова, которые содержат цифры. Сколько таких слов нашлось?\n",
        "\n",
        "2. Найдите все слова, которые содержат символы пунктуации. Сколько таких слов нашлось? \n",
        "\n",
        "3. Сколько хэштегов (токен начинается на #) и упоминаний (токен начинается на @) осталось в словаре?"
      ]
    },
    {
      "cell_type": "code",
      "source": [
        "vectorizer.vocabulary_"
      ],
      "metadata": {
        "colab": {
          "base_uri": "https://localhost:8080/"
        },
        "id": "OnW6O4agiFlx",
        "outputId": "e98b8086-d6cc-4152-f640-2dffb0b11499"
      },
      "execution_count": 102,
      "outputs": [
        {
          "output_type": "execute_result",
          "data": {
            "text/plain": [
              "{'bridge': 2899,\n",
              " '20collapse': 320,\n",
              " 'ashes': 1899,\n",
              " '2015': 295,\n",
              " 'australia': 2029,\n",
              " 'ûªs': 18151,\n",
              " 'collapse': 3858,\n",
              " 'trent': 16249,\n",
              " 'worst': 17546,\n",
              " 'history': 7664,\n",
              " 'england': 5652,\n",
              " 'bundled': 3036,\n",
              " '60': 755,\n",
              " 'http': 7859,\n",
              " 't5trhjuau0': 15530,\n",
              " 'hail': 7321,\n",
              " 'carol': 3308,\n",
              " 'stream': 15218,\n",
              " 'illinois': 8136,\n",
              " 'great': 7108,\n",
              " 'michigan': 10463,\n",
              " 'technique': 15684,\n",
              " 'camp': 3209,\n",
              " 'b1g': 2117,\n",
              " 'thanks': 15807,\n",
              " 'bmurph1019': 2706,\n",
              " 'hail_youtsey': 7322,\n",
              " 'termn8r13': 15744,\n",
              " 'goblue': 6990,\n",
              " 'wrestleon': 17580,\n",
              " 'oaskgki6qj': 11493,\n",
              " 'police': 12458,\n",
              " 'houston': 7824,\n",
              " 'cnn': 3799,\n",
              " 'tennessee': 15727,\n",
              " 'movie': 10802,\n",
              " 'theater': 15817,\n",
              " 'shooting': 14460,\n",
              " 'suspect': 15430,\n",
              " 'killed': 9123,\n",
              " 'di8elzswnr': 4830,\n",
              " 'rioting': 13621,\n",
              " 'couple': 4146,\n",
              " 'hours': 7816,\n",
              " 'left': 9519,\n",
              " 'class': 3719,\n",
              " 'wounds': 17554,\n",
              " 'lake': 9362,\n",
              " 'highlands': 7618,\n",
              " 'crack': 4184,\n",
              " 'path': 12055,\n",
              " 'wiped': 17420,\n",
              " 'morning': 10751,\n",
              " 'beach': 2354,\n",
              " 'run': 13870,\n",
              " 'surface': 15404,\n",
              " 'elbow': 5503,\n",
              " 'right': 13604,\n",
              " 'knee': 9193,\n",
              " 'yaqrsximph': 17813,\n",
              " 'airplane': 1451,\n",
              " '20accident': 309,\n",
              " 'experts': 5909,\n",
              " 'france': 6503,\n",
              " 'begin': 2403,\n",
              " 'examining': 5856,\n",
              " 'debris': 4581,\n",
              " 'reunion': 13528,\n",
              " 'island': 8482,\n",
              " 'french': 6551,\n",
              " 'air': 1444,\n",
              " 'accident': 1239,\n",
              " 'tagzbcxfj0': 15555,\n",
              " 'mlb': 10628,\n",
              " 'bloody': 2672,\n",
              " 'isolated': 8491,\n",
              " 'city': 3687,\n",
              " 'world': 17527,\n",
              " 'perth': 12195,\n",
              " 'came': 3199,\n",
              " 'kill': 9120,\n",
              " 'indians': 8240,\n",
              " 'fun': 6627,\n",
              " 'video': 16920,\n",
              " 'smirking': 14729,\n",
              " 'remorseless': 13400,\n",
              " 'pakistani': 11952,\n",
              " 'killer': 9124,\n",
              " 'shows': 14489,\n",
              " 'boasting': 2719,\n",
              " 'fpjlwoxklg': 6484,\n",
              " 'burning': 3052,\n",
              " 'johnsontionne': 8781,\n",
              " 'idk': 8064,\n",
              " 'really': 13244,\n",
              " 'destroy': 4763,\n",
              " 'ask': 1914,\n",
              " 'house': 7817,\n",
              " 'wounded': 17553,\n",
              " 'maracay': 10150,\n",
              " 'nirgua': 11227,\n",
              " 'venezuela': 16862,\n",
              " 'officer': 11568,\n",
              " 'dead': 4555,\n",
              " 'exchanging': 5864,\n",
              " 'shots': 14473,\n",
              " 'xxfk4khbiw': 17759,\n",
              " 'wreck': 17577,\n",
              " 'currently': 4351,\n",
              " 'writing': 17590,\n",
              " 'book': 2758,\n",
              " 'friggin': 6575,\n",
              " 'destiel': 4757,\n",
              " 'sucks': 15312,\n",
              " 'read': 13223,\n",
              " 'vine': 16941,\n",
              " 'description': 4737,\n",
              " 'https': 7860,\n",
              " 'mkx6ux4ozt': 10626,\n",
              " 'mudslide': 10859,\n",
              " 'malibu': 10107,\n",
              " 'santafe': 14030,\n",
              " 'winning': 17415,\n",
              " 'sterling': 15140,\n",
              " 'scott': 14146,\n",
              " 'red': 13296,\n",
              " 'carpet': 3313,\n",
              " 'fundraiser': 6630,\n",
              " 'oso': 11805,\n",
              " 'ma4ra7atql': 10025,\n",
              " 'cg579wldne': 3458,\n",
              " 'casualties': 3351,\n",
              " 'canadian': 3229,\n",
              " 'bread': 2866,\n",
              " 'libertarianluke': 9607,\n",
              " 'honest': 7750,\n",
              " 'people': 12157,\n",
              " 'want': 17132,\n",
              " 'rampage': 13136,\n",
              " 'let': 9572,\n",
              " 'use': 16713,\n",
              " 'hands': 7366,\n",
              " 'feet': 6142,\n",
              " 'ambulance': 1592,\n",
              " 'amsterdam': 1617,\n",
              " '7xglah10zl': 928,\n",
              " 'feared': 6119,\n",
              " 'helicopter': 7544,\n",
              " 'crash': 4199,\n",
              " 'thmblaatzp': 15894,\n",
              " 'electrocuted': 5517,\n",
              " 'got': 7043,\n",
              " 'night': 11213,\n",
              " 'work': 17517,\n",
              " 'time': 15978,\n",
              " 'life': 9620,\n",
              " 'shit': 14443,\n",
              " 'weird': 17268,\n",
              " 'drown': 5213,\n",
              " 'older': 11643,\n",
              " 'native': 11030,\n",
              " 'australians': 2031,\n",
              " 'believe': 2428,\n",
              " 'oceans': 11530,\n",
              " 'created': 4220,\n",
              " 'urine': 16691,\n",
              " 'angry': 1656,\n",
              " 'god': 6992,\n",
              " 'tried': 16269,\n",
              " 'volcano': 17013,\n",
              " 'west': 17289,\n",
              " 'coast': 3813,\n",
              " 'cali': 3175,\n",
              " 'usa': 16701,\n",
              " 'architect': 1808,\n",
              " 'kanye': 8964,\n",
              " 'musbik7ejf': 10891,\n",
              " 'attack': 1972,\n",
              " 'mumbai': 10878,\n",
              " 'india': 8233,\n",
              " 'shud': 14495,\n",
              " 'evidence': 5841,\n",
              " 'pak': 11950,\n",
              " 'share': 14387,\n",
              " 'terrorists': 15757,\n",
              " 'amp': 1612,\n",
              " 'oth': 11813,\n",
              " 'contries': 4057,\n",
              " 'qiopbtiuvu': 12949,\n",
              " 'body': 2727,\n",
              " '20bag': 311,\n",
              " 'new': 11136,\n",
              " 'york': 17904,\n",
              " 'auth': 2033,\n",
              " 'louis': 9867,\n",
              " 'vuitton': 17050,\n",
              " 'brown': 2953,\n",
              " 'saumur': 14065,\n",
              " '35': 485,\n",
              " 'cross': 4264,\n",
              " 'shoulder': 14474,\n",
              " 'bag': 2171,\n",
              " 'monogram': 10708,\n",
              " '23': 355,\n",
              " '419': 581,\n",
              " 'û_': 18134,\n",
              " 'hcdiwe5flc': 7470,\n",
              " 'zlvebeoavg': 18064,\n",
              " 'annihilated': 1676,\n",
              " 'higher': 7615,\n",
              " 'places': 12357,\n",
              " 'episode': 5712,\n",
              " 'trunks': 16323,\n",
              " 'freiza': 6549,\n",
              " 'cleanest': 3727,\n",
              " 'showed': 14485,\n",
              " 'nigga': 11211,\n",
              " 'mercy': 10387,\n",
              " 'cyclone': 4388,\n",
              " 'hyderabad': 7961,\n",
              " 'roughdeal1': 13790,\n",
              " 'ante': 1693,\n",
              " 'hudhud': 7867,\n",
              " 'chandrababu': 3489,\n",
              " 'valle': 16797,\n",
              " 'ne': 11081,\n",
              " 'ga': 6704,\n",
              " '65': 781,\n",
              " 'zhenghxn': 18038,\n",
              " '11': 117,\n",
              " 'eyes': 5957,\n",
              " 'akame': 1467,\n",
              " 'tokyo': 16066,\n",
              " 'ghoul': 6882,\n",
              " 'damn': 4452,\n",
              " 'dont': 5092,\n",
              " 'dare': 4492,\n",
              " 'watch': 17178,\n",
              " 'suicide': 15328,\n",
              " '20bombing': 317,\n",
              " 'principality': 12666,\n",
              " 'zeron': 18030,\n",
              " 'rayquazaerk': 13190,\n",
              " 'christian': 3634,\n",
              " 'sure': 15398,\n",
              " 'don': 5083,\n",
              " 'bombing': 2747,\n",
              " 'employed': 5599,\n",
              " 'islamic': 8479,\n",
              " 'groups': 7161,\n",
              " 'demolished': 4679,\n",
              " 'jackmulholland1': 8576,\n",
              " 'think': 15880,\n",
              " 'marquis': 10194,\n",
              " 'carlos': 3300,\n",
              " 'charlie': 3514,\n",
              " 'finally': 6226,\n",
              " 'dublin': 5245,\n",
              " 'sadly': 13951,\n",
              " 'inundated': 8397,\n",
              " 'surf': 15402,\n",
              " 'hi': 7605,\n",
              " 'waimea': 17095,\n",
              " 'bay': 2313,\n",
              " 'like': 9643,\n",
              " 'surfers': 15405,\n",
              " 'czdw8oowa2': 4401,\n",
              " 'collision': 3872,\n",
              " 'denver': 4703,\n",
              " 'colorado': 3883,\n",
              " 'motorcyclist': 10782,\n",
              " 'bicyclist': 2518,\n",
              " 'injured': 8299,\n",
              " 'broadway': 2935,\n",
              " 'zl7ojdaj3u': 18060,\n",
              " 'flames': 6300,\n",
              " 'maryland': 10206,\n",
              " 'mansion': 10141,\n",
              " 'caused': 3379,\n",
              " 'damaged': 4443,\n",
              " 'plug': 12410,\n",
              " 'christmas': 3641,\n",
              " 'tree': 16235,\n",
              " 'report': 13437,\n",
              " 'says': 14084,\n",
              " 'lkjfabqzb3': 9743,\n",
              " 'demolish': 4678,\n",
              " 'nyhc': 11448,\n",
              " 'going': 7000,\n",
              " 'drake': 5150,\n",
              " 'ghostwriting': 6881,\n",
              " 'know': 9208,\n",
              " 'rihanna': 13609,\n",
              " 'lives': 9721,\n",
              " 'door': 5096,\n",
              " 'buildings': 3017,\n",
              " '20burning': 319,\n",
              " 'blue': 2689,\n",
              " 'yes': 17850,\n",
              " '1acd4900c1424d1': 232,\n",
              " 'foxnews': 6476,\n",
              " 'looting': 9835,\n",
              " 'forest': 6431,\n",
              " '20fires': 327,\n",
              " 'nicola': 11199,\n",
              " 'valley': 16798,\n",
              " 'fires': 6259,\n",
              " 'dying': 5319,\n",
              " 'salmon': 13986,\n",
              " 'act': 1276,\n",
              " 'deny': 4704,\n",
              " 'climate': 3750,\n",
              " 'change': 3490,\n",
              " 'nightmares': 11216,\n",
              " 'rbzomwgjee': 13202,\n",
              " 'bcpoli': 2344,\n",
              " 'canpoli': 3246,\n",
              " 'vanpoli': 16814,\n",
              " 'ns1aggfnxz': 11378,\n",
              " 'shoes': 14455,\n",
              " 'asics': 1911,\n",
              " 'gt': 7183,\n",
              " 'ii': 8104,\n",
              " 'super': 15371,\n",
              " 'ronnie': 13756,\n",
              " 'fieg': 6195,\n",
              " 'kith': 9164,\n",
              " 'white': 17341,\n",
              " '3m': 536,\n",
              " 'gel': 6813,\n",
              " 'grey': 7135,\n",
              " 'od250zshfy': 11534,\n",
              " 'sandstorm': 14021,\n",
              " 'airport': 1453,\n",
              " 'swallowed': 15443,\n",
              " 'minute': 10561,\n",
              " 'wd9odwjj9l': 17222,\n",
              " '20on': 331,\n",
              " '20fire': 326,\n",
              " 'uk': 16540,\n",
              " 'tweetlikeitsseptember11th2001': 16409,\n",
              " 'oil': 11611,\n",
              " '20spill': 338,\n",
              " 'ny': 11437,\n",
              " 'california': 3178,\n",
              " 'spill': 14949,\n",
              " 'larger': 9412,\n",
              " 'projected': 12713,\n",
              " 'xwxbyhtuzc': 17758,\n",
              " 'wzedxefblg': 17650,\n",
              " 'cartoon': 3325,\n",
              " 'bears': 2362,\n",
              " 'qave': 12921,\n",
              " 'knowlddge': 9210,\n",
              " 'toilet': 16063,\n",
              " 'paper': 11990,\n",
              " 'drought': 5208,\n",
              " 'miami': 10454,\n",
              " '_gaabyx': 1137,\n",
              " 'purple': 12859,\n",
              " 'activist': 1288,\n",
              " 'thought': 15906,\n",
              " 'injuries': 8301,\n",
              " 'madison': 10050,\n",
              " 'wi': 17357,\n",
              " 'st': 15042,\n",
              " 'mo': 10647,\n",
              " 'buffoonmike': 3011,\n",
              " 'knew': 9197,\n",
              " 'doing': 5067,\n",
              " 'bite': 2581,\n",
              " 'influenced': 8282,\n",
              " 'shitty': 14447,\n",
              " 'staff': 15051,\n",
              " 'acquisitions': 1272,\n",
              " 'landslide': 9388,\n",
              " 'austin': 2028,\n",
              " 'texas': 15772,\n",
              " 'toddstarnes': 16056,\n",
              " 'enjoy': 5659,\n",
              " 'impending': 8176,\n",
              " 'todd': 16054,\n",
              " 'hehe': 7530,\n",
              " 'apocalypse': 1742,\n",
              " 'oregon': 11771,\n",
              " 'look': 9820,\n",
              " 'grizzly': 7147,\n",
              " 'peak': 12124,\n",
              " 'looks': 9824,\n",
              " 'beginning': 2405,\n",
              " 'dystopian': 5324,\n",
              " 'detonation': 4781,\n",
              " 'ignition': 8090,\n",
              " 'knock': 9203,\n",
              " 'sensor': 14285,\n",
              " 'senso': 14284,\n",
              " 'standard': 15064,\n",
              " 'ks100': 9260,\n",
              " '7o4lnfbe7k': 920,\n",
              " 'fvzsgjtbew': 6658,\n",
              " '20responders': 334,\n",
              " 'week': 17259,\n",
              " 'responders': 13488,\n",
              " 'dart': 4505,\n",
              " 'members': 10364,\n",
              " 'participating': 12028,\n",
              " 'day': 4534,\n",
              " 'intensive': 8365,\n",
              " 'technical': 15682,\n",
              " 'large': 9411,\n",
              " 'animal': 1658,\n",
              " 'tl93aod3er': 16019,\n",
              " 'military': 10509,\n",
              " 'lot': 9858,\n",
              " '20': 281,\n",
              " 'tom': 16072,\n",
              " 'clancy': 3715,\n",
              " 'mystery': 10943,\n",
              " 'novels': 11357,\n",
              " 'paperback': 11991,\n",
              " 'obix79ncxn': 11499,\n",
              " 'tomclancy': 16076,\n",
              " 'drowning': 5215,\n",
              " 'coventry': 4158,\n",
              " 'low': 9883,\n",
              " 'self': 14255,\n",
              " 'image': 8151,\n",
              " 'quiz': 13021,\n",
              " 'z8r6r3nbtb': 17990,\n",
              " 'namffldh5h': 10995,\n",
              " 'gonna': 7012,\n",
              " 'fight': 6203,\n",
              " 'taylor': 15630,\n",
              " 'soon': 14844,\n",
              " 'danger': 4466,\n",
              " 'hailing': 7325,\n",
              " 'dayton': 4536,\n",
              " 'wish': 17431,\n",
              " 'victoria': 16910,\n",
              " 'secret': 14219,\n",
              " 'good': 7013,\n",
              " 'flood': 6342,\n",
              " 'spot': 14981,\n",
              " 'combo': 3894,\n",
              " '53inch': 689,\n",
              " '300w': 459,\n",
              " 'curved': 4355,\n",
              " 'cree': 4230,\n",
              " 'led': 9509,\n",
              " 'light': 9631,\n",
              " 'bar': 2237,\n",
              " '4x4': 659,\n",
              " 'offroad': 11582,\n",
              " 'fog': 6381,\n",
              " 'lamp': 9370,\n",
              " 'o097vsotxk': 11464,\n",
              " 'i23xy7iejj': 7977,\n",
              " 'severe': 14336,\n",
              " 'weather': 17240,\n",
              " 'bulletin': 3024,\n",
              " 'typhoon': 16448,\n",
              " 'ûï': 18155,\n",
              " 'hannaph': 7374,\n",
              " 'soudelor': 14863,\n",
              " 'tropical': 16298,\n",
              " 'warning': 17147,\n",
              " 'issued': 8496,\n",
              " '00': 0,\n",
              " 'pm': 12418,\n",
              " '06': 23,\n",
              " 'thhjjw51pe': 15875,\n",
              " 'fits': 6272,\n",
              " '01': 6,\n",
              " 'bmw': 2707,\n",
              " '325ci': 478,\n",
              " '5l': 726,\n",
              " 'l6': 9326,\n",
              " 'gbvdnczjou': 6798,\n",
              " 'c211hise0r': 3118,\n",
              " 'explosion': 5924,\n",
              " 'london': 9802,\n",
              " 'united': 16613,\n",
              " 'kingdom': 9144,\n",
              " '10': 87,\n",
              " 'chemical': 3550,\n",
              " 'park': 12014,\n",
              " 'western': 17293,\n",
              " 'germany': 6850,\n",
              " 'xbznu0qkvs': 17680,\n",
              " 'bomb': 2742,\n",
              " 'soul': 14865,\n",
              " 'food': 6402,\n",
              " 'sound': 14869,\n",
              " 'terrorism': 15755,\n",
              " 'truth': 16327,\n",
              " 'bejftygjil': 2420,\n",
              " 'news': 11150,\n",
              " 'bbc': 2322,\n",
              " 'islam': 8476,\n",
              " 'isis': 8474,\n",
              " 'quran': 13030,\n",
              " 'lies': 9619,\n",
              " 'jlczidz7vu': 8744,\n",
              " 'sinking': 14573,\n",
              " 'lost': 9857,\n",
              " 'stone': 15173,\n",
              " 'carry': 3318,\n",
              " 'onå': 11699,\n",
              " 'hostage': 7802,\n",
              " 'chicago': 3569,\n",
              " 'mylittlepwnies3': 10939,\n",
              " 'early__may': 5362,\n",
              " 'anathemazhiv': 1626,\n",
              " 'tonysandos': 16090,\n",
              " 'lebanon': 9506,\n",
              " '80s': 943,\n",
              " 'iran': 8443,\n",
              " 'crisis': 4253,\n",
              " 'libya': 9614,\n",
              " 'pan': 11968,\n",
              " 'pa': 11920,\n",
              " 'pulls': 12826,\n",
              " 'gun': 7217,\n",
              " 'man': 10118,\n",
              " 'apparent': 1753,\n",
              " 'provocation': 12772,\n",
              " 'lhw4vtbhzg': 9603,\n",
              " 'dailykos': 4429,\n",
              " 'derailment': 4724,\n",
              " 'minneapolis': 10550,\n",
              " 'mn': 10642,\n",
              " 'train': 16190,\n",
              " 'patna': 12063,\n",
              " 'casualty': 3352,\n",
              " 'far': 6051,\n",
              " 'indian': 8236,\n",
              " 'express': 5932,\n",
              " 'yh5vetm0yz': 17862,\n",
              " '17wgug8z0m': 197,\n",
              " 'panic': 11979,\n",
              " 'dream': 5165,\n",
              " 'magic': 10062,\n",
              " 'linden': 9665,\n",
              " 'method': 10417,\n",
              " 'lite': 9695,\n",
              " 'version': 16877,\n",
              " 'anxiety': 1712,\n",
              " 'cure': 4344,\n",
              " 'program': 12704,\n",
              " '073izwx0lb': 28,\n",
              " 'lind': 9663,\n",
              " 'okmlagvkjv': 11632,\n",
              " 'rescued': 13459,\n",
              " 'jammu': 8608,\n",
              " 'kashmir': 8976,\n",
              " 'delhi': 4651,\n",
              " '18': 198,\n",
              " 'bovines': 2800,\n",
              " 'smugglersåênabbed': 14743,\n",
              " 'e7fn5g5ruu': 5346,\n",
              " 'fredericksburg': 6524,\n",
              " 'virginia': 16958,\n",
              " 'wwp': 17633,\n",
              " 'serving': 14319,\n",
              " '75k': 881,\n",
              " 'veterans': 16883,\n",
              " '52k': 684,\n",
              " 'oif': 11610,\n",
              " 'oef': 11547,\n",
              " 'vets': 16884,\n",
              " 'physical': 12266,\n",
              " 'invisible': 8412,\n",
              " 'ones': 11679,\n",
              " 'shhlv4dplz': 14423,\n",
              " 'client': 3746,\n",
              " 'dust': 5286,\n",
              " '20storm': 339,\n",
              " 'learned': 9498,\n",
              " 'economics': 5413,\n",
              " 'south': 14879,\n",
              " 'dakota': 4433,\n",
              " 'storm': 15188,\n",
              " 'did': 4849,\n",
              " 'years': 17833,\n",
              " 'college': 3866,\n",
              " 'hubert': 7866,\n",
              " 'humphrey': 7901,\n",
              " 'wrecked': 17579,\n",
              " 'cramer': 4192,\n",
              " 'iger': 8082,\n",
              " 'words': 17516,\n",
              " 'disney': 4948,\n",
              " 'stock': 15164,\n",
              " 'sf5jdnvdw9': 14348,\n",
              " 'til_now': 15972,\n",
              " 'cnbc': 3794,\n",
              " 'tring': 16276,\n",
              " 'marc_holl': 10153,\n",
              " 'nennicook': 11116,\n",
              " 'aitchkaycee': 1458,\n",
              " 'vixstuart': 16984,\n",
              " 'benjbeckwith': 2455,\n",
              " 'pretty': 12641,\n",
              " 'disaster': 4919,\n",
              " 'gbbo': 6791,\n",
              " 'obliteration': 11508,\n",
              " 'canada': 3227,\n",
              " 'need': 11097,\n",
              " 'arcade': 1806,\n",
              " 'shooter': 14459,\n",
              " 'fix': 6276,\n",
              " 'cte': 4308,\n",
              " 'running': 13877,\n",
              " 'buy': 3088,\n",
              " 'cod': 3829,\n",
              " 'title': 16006,\n",
              " 'weren': 17285,\n",
              " 'overpriced': 11861,\n",
              " 'steam': 15124,\n",
              " 'bioterrorism': 2562,\n",
              " 'firepower': 6258,\n",
              " 'lab': 9339,\n",
              " 'electronic': 5518,\n",
              " 'resource': 13480,\n",
              " 'automation': 2045,\n",
              " 'infectious': 8270,\n",
              " 'diseases': 4938,\n",
              " 'kvpbybglsr': 9292,\n",
              " 'graysondolan': 7103,\n",
              " 'explode': 5916,\n",
              " 'washington': 17167,\n",
              " 'kendall': 9037,\n",
              " 'jenner': 8684,\n",
              " 'nick': 11193,\n",
              " 'jonas': 8793,\n",
              " 'dating': 4514,\n",
              " 'quite': 13019,\n",
              " 'literally': 9696,\n",
              " 'pfvzvpxqgr': 12224,\n",
              " 'tell': 15709,\n",
              " 'mom': 10689,\n",
              " 'bring': 2914,\n",
              " 'hold': 7704,\n",
              " 'cat': 3353,\n",
              " 'heat': 7514,\n",
              " '20wave': 342,\n",
              " 'fort': 6451,\n",
              " 'worth': 17549,\n",
              " 'rt': 13837,\n",
              " 'startelegram': 15090,\n",
              " 'homeless': 7733,\n",
              " 'vulnerable': 17053,\n",
              " 'north': 11312,\n",
              " 'wave': 17195,\n",
              " 'k9airfq3ql': 8927,\n",
              " 'jdbtlymehy': 8668,\n",
              " 'nuclear': 11392,\n",
              " '20reactor': 333,\n",
              " 'solar': 14803,\n",
              " 'power': 12542,\n",
              " 'japanese': 8626,\n",
              " 'fukushima': 6624,\n",
              " 'reactor': 13220,\n",
              " 'energy': 5640,\n",
              " 'japan': 8625,\n",
              " 'temperature': 15720,\n",
              " 'fuel': 6617,\n",
              " 'pool': 12479,\n",
              " 'ys3nmwwyvc': 17941,\n",
              " 'alpotnb7q3': 1563,\n",
              " 'arvada': 1880,\n",
              " 'taken': 15565,\n",
              " 'local': 9774,\n",
              " 'wlmsq3mtho': 17458,\n",
              " 'trauma': 16217,\n",
              " 'nashville': 11018,\n",
              " 'tn': 16036,\n",
              " 'esteemed': 5781,\n",
              " 'journalist': 8814,\n",
              " 'recalls': 13266,\n",
              " 'tragic': 16186,\n",
              " 'effects': 5463,\n",
              " 'unaddressed': 16560,\n",
              " 'childhood': 3581,\n",
              " 'keithboykin': 9026,\n",
              " 'randallpinkston': 13140,\n",
              " 'pozarmy': 12547,\n",
              " 'gxq1auzb18': 7264,\n",
              " 'panicking': 11980,\n",
              " 'feel': 6134,\n",
              " 'results': 13510,\n",
              " 'alarmingly': 1491,\n",
              " 'calm': 3184,\n",
              " 'lightning': 9637,\n",
              " 'thunder': 15941,\n",
              " 'possible': 12513,\n",
              " 'pinpoint': 12304,\n",
              " 'foothill': 6416,\n",
              " 'forecast': 6424,\n",
              " 'ctijdpxabk': 4310,\n",
              " 'displaced': 4959,\n",
              " '40': 562,\n",
              " 'ocean': 11529,\n",
              " 'township': 16151,\n",
              " 'apartment': 1730,\n",
              " 'newyork': 11163,\n",
              " 'uelz59wvom': 16513,\n",
              " 'massacre': 10217,\n",
              " 'stay': 15115,\n",
              " 'tuned': 16368,\n",
              " 'freddiedeboer': 6521,\n",
              " 'thucydiplease': 15939,\n",
              " 'rise': 13631,\n",
              " 'coates': 3818,\n",
              " 'charleston': 3513,\n",
              " 'walter': 17122,\n",
              " 'black': 2605,\n",
              " 'twitter': 16421,\n",
              " 'broadly': 2933,\n",
              " 'deaths': 4576,\n",
              " 'gallifrey': 6731,\n",
              " 'mathew_is_angry': 10238,\n",
              " 'z3ke_sk1': 17982,\n",
              " 'saladinahmed': 13975,\n",
              " 'died': 4855,\n",
              " 'horrible': 7789,\n",
              " 'trapped': 16214,\n",
              " 'ships': 14437,\n",
              " 'risk': 13634,\n",
              " '20buildings': 318,\n",
              " 'whiterun': 17343,\n",
              " 'skyrim': 14647,\n",
              " 'destruction': 4769,\n",
              " 'fine': 6232,\n",
              " 'just': 8881,\n",
              " 'windstorm': 17403,\n",
              " 'palm': 11960,\n",
              " 'county': 4144,\n",
              " 'fl': 6293,\n",
              " 'reality': 13239,\n",
              " 'training': 16192,\n",
              " 'falls': 6024,\n",
              " 'elevated': 5529,\n",
              " 'tracks': 16171,\n",
              " 'jiomnrcygt': 8732,\n",
              " 'paramedic': 12001,\n",
              " 'ems': 5605,\n",
              " 'rescuers': 13460,\n",
              " 'fears': 6120,\n",
              " 'missing': 10587,\n",
              " 'migrants': 10493,\n",
              " 'med': 10317,\n",
              " 'search': 14198,\n",
              " 'survivors': 15425,\n",
              " 'boat': 2720,\n",
              " 'carrying': 3320,\n",
              " '6ds67xai5e': 810,\n",
              " 'derailed': 4722,\n",
              " 'toronto': 16114,\n",
              " 'derailed_benchmark': 4723,\n",
              " 'cool': 4070,\n",
              " 'paths': 12059,\n",
              " 'wonder': 17495,\n",
              " 'leaks': 9495,\n",
              " 'jobs': 8763,\n",
              " 'given': 6919,\n",
              " 'resque': 13494,\n",
              " 'ladies': 9350,\n",
              " 'tote': 16130,\n",
              " 'handbag': 7359,\n",
              " 'women': 17490,\n",
              " 'faux': 6083,\n",
              " 'leather': 9502,\n",
              " 'fashion': 6065,\n",
              " 'purse': 12864,\n",
              " 'y87gi3brlv': 17789,\n",
              " '1zbhvdcxzs': 280,\n",
              " 'raishimi33': 13125,\n",
              " 'sounds': 14873,\n",
              " 'plan': 12362,\n",
              " 'little': 9701,\n",
              " 'applaud': 1759,\n",
              " 'catastrophic': 3359,\n",
              " 'buxton': 3087,\n",
              " 'venice': 16863,\n",
              " 'nottingham': 11349,\n",
              " 'invading': 8400,\n",
              " 'iraq': 8448,\n",
              " 'mistake': 10596,\n",
              " 'diplomacy': 4891,\n",
              " 'needs': 11101,\n",
              " 'replace': 13432,\n",
              " 'constant': 4027,\n",
              " 'threat': 15914,\n",
              " 'war': 17136,\n",
              " 'israel': 8493,\n",
              " 'yqjpn3quux': 17931,\n",
              " 'related': 13364,\n",
              " 'threatens': 15917,\n",
              " 'europe': 5809,\n",
              " 'wk6b5z803o': 17453,\n",
              " 'livingston': 9726,\n",
              " 'mt': 10844,\n",
              " 'marynmck': 10207,\n",
              " 'adorable': 1331,\n",
              " 'hope': 7773,\n",
              " 'won': 17494,\n",
              " 'noticed': 11338,\n",
              " 'devastation': 4789,\n",
              " 'mount': 10786,\n",
              " 'vernon': 16873,\n",
              " 'coming': 3906,\n",
              " 'target': 15599,\n",
              " 'starbucks': 15079,\n",
              " 'closed': 3764,\n",
              " 'momneedscoffee': 10693,\n",
              " 'asap': 1886,\n",
              " 'iwontmakeit': 8529,\n",
              " 'bombed': 2744,\n",
              " 'screwston': 14173,\n",
              " 'tx': 16428,\n",
              " 'redskins': 13312,\n",
              " 'wr': 17570,\n",
              " 'roberts': 13689,\n",
              " 'belly': 2437,\n",
              " 'teamstream': 15673,\n",
              " 'gbcvvevdty': 6792,\n",
              " 'hellfire': 7548,\n",
              " 'allah': 1532,\n",
              " 'describes': 4735,\n",
              " 'piling': 12295,\n",
              " 'wealth': 17232,\n",
              " 'thinking': 15881,\n",
              " 'forever': 6432,\n",
              " 'surah': 15397,\n",
              " 'humaza': 7892,\n",
              " 'reflect': 13326,\n",
              " 'worldwide': 17535,\n",
              " 'loved': 9872,\n",
              " 'way': 17200,\n",
              " 'written': 17593,\n",
              " 'include': 8212,\n",
              " 'vantage': 16815,\n",
              " 'points': 12449,\n",
              " 'detkenlang': 4778,\n",
              " 'kindle': 9136,\n",
              " 'kcrnmjkj73': 9009,\n",
              " 'heartdisease': 7507,\n",
              " 'service': 14316,\n",
              " 'spending': 14940,\n",
              " 'half': 7337,\n",
              " 'budget': 3003,\n",
              " 'kzfigkeeva': 9311,\n",
              " 'tragedy': 16185,\n",
              " 'sandrabland': 14020,\n",
              " 'forget': 6435,\n",
              " 'gajtugaui7': 6722,\n",
              " 'mayhem': 10266,\n",
              " 'detroit': 4782,\n",
              " 'liked': 9644,\n",
              " 'youtube': 17921,\n",
              " 'itsjustinstuart': 8510,\n",
              " 'mnkaji2q1n': 10643,\n",
              " 'range': 13148,\n",
              " 'hungerarticles': 7907,\n",
              " 'nepal': 11120,\n",
              " 'rebuilding': 13261,\n",
              " 'livelihoods': 9713,\n",
              " 'quake': 12984,\n",
              " 'lrouwjmbix': 9900,\n",
              " 'arsonist': 1864,\n",
              " 'suspected': 15431,\n",
              " 'serial': 14308,\n",
              " 'arrested': 1854,\n",
              " 'calif': 3177,\n",
              " 'pzotpdgaki': 12898,\n",
              " 'hurricane': 7924,\n",
              " 'vineyard': 16943,\n",
              " 'chubbysquirrel_': 3647,\n",
              " 'hurricane_surge': 7927,\n",
              " 'true': 16316,\n",
              " '33333': 481,\n",
              " 'battle': 2306,\n",
              " '9vw0uqqi1y': 1115,\n",
              " 'marvel': 10204,\n",
              " 'vs': 17042,\n",
              " 'dc': 4541,\n",
              " 'avengers': 2057,\n",
              " 'ireland': 8450,\n",
              " 'rockbottomradfm': 13700,\n",
              " 'challenges': 3477,\n",
              " 'tough': 16136,\n",
              " 'rescuing': 13461,\n",
              " 'jaipur': 8591,\n",
              " 'goes': 6998,\n",
              " 'engine': 5647,\n",
              " 'tyjxrfd3st': 16442,\n",
              " 'catastrophe': 3358,\n",
              " 'wisconsin': 17426,\n",
              " 'regular': 13353,\n",
              " 'coffees': 3838,\n",
              " 'rockstar': 13711,\n",
              " 'coffee': 3837,\n",
              " 'today': 16048,\n",
              " 'tired': 16000,\n",
              " 'butt': 3082,\n",
              " 'extraordinaire': 5947,\n",
              " 'violent': 16951,\n",
              " 'nws': 11430,\n",
              " 'wth': 17608,\n",
              " 'rotating': 13782,\n",
              " 'huge': 7877,\n",
              " 'massive': 10220,\n",
              " 'tornado': 16110,\n",
              " 'j3di85ist5': 8551,\n",
              " 'damage': 4442,\n",
              " 'san': 14012,\n",
              " 'diego': 4856,\n",
              " 'swb1192': 15452,\n",
              " 'nda': 11072,\n",
              " 'ability': 1199,\n",
              " 'offer': 11564,\n",
              " 'services': 14317,\n",
              " 'future': 6649,\n",
              " 'prolly': 12717,\n",
              " 'ameenshaikh3': 1597,\n",
              " 'sir': 14577,\n",
              " 'wanted': 17133,\n",
              " 'make': 10093,\n",
              " 'point': 12447,\n",
              " 'sureshpprabhu': 15400,\n",
              " 'said': 13964,\n",
              " 'lying': 9967,\n",
              " 'sinkhole': 14572,\n",
              " 'swallows': 15444,\n",
              " 'brooklyn': 2946,\n",
              " 'intersection': 8384,\n",
              " 'ûò': 18175,\n",
              " '1ybe5mgzl4': 278,\n",
              " '7zog3dpdu9': 933,\n",
              " 'drowned': 5214,\n",
              " 'jacksonville': 8579,\n",
              " 'family': 6032,\n",
              " 'bands': 2213,\n",
              " 'memorial': 10370,\n",
              " 'planned': 12368,\n",
              " 'tilgurkv7z': 15973,\n",
              " 'seattle': 14208,\n",
              " 'wa': 17084,\n",
              " '405': 570,\n",
              " 'southbound': 14882,\n",
              " 'coal': 3812,\n",
              " 'creek': 4231,\n",
              " 'pkwy': 12353,\n",
              " 'blocking': 2665,\n",
              " 'center': 3437,\n",
              " 'lane': 9390,\n",
              " 'attacked': 1973,\n",
              " 'im': 8146,\n",
              " 'feeling': 6136,\n",
              " '91jvycxxvi': 1029,\n",
              " 'destroyed': 4765,\n",
              " 'waco': 17086,\n",
              " 'felt': 6150,\n",
              " 'namekians': 10993,\n",
              " 'played': 12382,\n",
              " 'planet': 12365,\n",
              " 'acc': 1233,\n",
              " 'study': 15266,\n",
              " 'conducted': 3992,\n",
              " 'skims': 14627,\n",
              " 'morethan': 10742,\n",
              " '50': 669,\n",
              " 'population': 12488,\n",
              " 'suffer': 15316,\n",
              " 'psychiatric': 12792,\n",
              " 'disorders': 4952,\n",
              " 'saf9mosksn': 13952,\n",
              " 'kashmirconflict': 8977,\n",
              " 'flattened': 6310,\n",
              " 'bow': 2802,\n",
              " 'nh': 11180,\n",
              " 'ideas': 8053,\n",
              " 'qfrawln4ba': 12938,\n",
              " 'bleeding': 2639,\n",
              " 'middle': 10475,\n",
              " 'eating': 5393,\n",
              " 'takis': 15568,\n",
              " 'rubbing': 13849,\n",
              " 'tears': 15677,\n",
              " 'quarantined': 12991,\n",
              " 'rome': 13746,\n",
              " 'link': 9670,\n",
              " 'reddit': 13303,\n",
              " 'content': 4040,\n",
              " 'policy': 12460,\n",
              " 'effect': 5460,\n",
              " 'subreddits': 15299,\n",
              " 'banned': 2230,\n",
              " 'cd2ng2awql': 3407,\n",
              " ...}"
            ]
          },
          "metadata": {},
          "execution_count": 102
        }
      ]
    },
    {
      "cell_type": "code",
      "source": [
        "from string import punctuation\n",
        "def contains_digit(s: str) -> bool:\n",
        "    return any(map(str.isdigit, s))\n",
        "\n",
        "def contains_punctuation(s: str) -> bool:\n",
        "  for x in punctuation:\n",
        "    if x in s:\n",
        "      return True\n",
        "  return False\n",
        "\n",
        "def is_hashtag(s: str) -> bool:\n",
        "      return s[0]=='#'\n",
        "\n",
        "def is_mention(s: str) -> bool:\n",
        "      return s[0]=='@'\n",
        "\n",
        "def investigate_vocabulary(vocabulary: dict):\n",
        "  ans = [0,0,0,0]\n",
        "  for key in vocabulary.keys():\n",
        "      if contains_digit(key):\n",
        "        ans[0]+=1\n",
        "      if contains_punctuation(key):\n",
        "        ans[1]+=1\n",
        "      if is_hashtag(key):\n",
        "        ans[2]+=1\n",
        "      if is_mention(key):\n",
        "        ans[3]+=1\n",
        "  print('With digit:      ', ans[0]\n",
        "          )\n",
        "  print('With punctuation:', ans[1]\n",
        "          )\n",
        "  print('Hashtags:        ', ans[2]\n",
        "          )\n",
        "  print('Mentions:        ', ans[3]\n",
        "          )\n",
        "\n",
        "\n"
      ],
      "metadata": {
        "id": "7PhQSWqcHhU8"
      },
      "execution_count": 103,
      "outputs": []
    },
    {
      "cell_type": "code",
      "source": [
        "dummy_vocab = {'th1nk' : 0,\n",
        "               'think333' : 1,\n",
        "               'think.' : 2,\n",
        "               'th!nk' : 3,\n",
        "               'th...nk' : 4,\n",
        "               '#think' : 5,\n",
        "               '@think' : 6,\n",
        "               '@thinking':7,\n",
        "               '@nothink' : 8,\n",
        "               'think' : 9}\n",
        "investigate_vocabulary(dummy_vocab)"
      ],
      "metadata": {
        "colab": {
          "base_uri": "https://localhost:8080/"
        },
        "id": "s8hL5ZcQIdp6",
        "outputId": "63ac0018-d4bd-4e7f-c378-33d7c9e3f475"
      },
      "execution_count": 104,
      "outputs": [
        {
          "output_type": "stream",
          "name": "stdout",
          "text": [
            "With digit:       2\n",
            "With punctuation: 7\n",
            "Hashtags:         1\n",
            "Mentions:         3\n"
          ]
        }
      ]
    },
    {
      "cell_type": "code",
      "source": [
        "investigate_vocabulary(vectorizer.vocabulary_\n",
        "                       )"
      ],
      "metadata": {
        "id": "VpW8R_SuKR_l",
        "colab": {
          "base_uri": "https://localhost:8080/"
        },
        "outputId": "ff82f181-8122-40b4-f21f-cb69edafbfec"
      },
      "execution_count": 105,
      "outputs": [
        {
          "output_type": "stream",
          "name": "stdout",
          "text": [
            "With digit:       3812\n",
            "With punctuation: 315\n",
            "Hashtags:         0\n",
            "Mentions:         0\n"
          ]
        }
      ]
    },
    {
      "cell_type": "markdown",
      "metadata": {
        "id": "bfNLaxX93HvM"
      },
      "source": [
        "## Задание 6 (0.5 балла)\n",
        "\n",
        "Вспомним, что на семинаре по текстам мы узнали, что в nltk есть специальный токенизатор для текстов - TweetTokenizer. Попробуем применить CountVectorizer с этим токенизатором. Ответьте на все вопросы из предыдущего пункта для TweetTokenizer и сравните результаты."
      ]
    },
    {
      "cell_type": "code",
      "execution_count": 106,
      "metadata": {
        "id": "xnlRoXUS3HvM"
      },
      "outputs": [],
      "source": [
        "from nltk.tokenize import TweetTokenizer\n",
        "\n",
        "vectorizer_TweetTokenizer = CountVectorizer(tokenizer=TweetTokenizer().tokenize)\n"
      ]
    },
    {
      "cell_type": "code",
      "source": [
        "vectorized_train_TweetTokenizer = vectorizer_TweetTokenizer.fit_transform(train.loc[:,'text'])"
      ],
      "metadata": {
        "id": "8lPMIf6UKccT",
        "colab": {
          "base_uri": "https://localhost:8080/"
        },
        "outputId": "a3cc4a83-8d11-4f77-a6d4-9454c3a5700b"
      },
      "execution_count": 107,
      "outputs": [
        {
          "output_type": "stream",
          "name": "stderr",
          "text": [
            "/usr/local/lib/python3.10/dist-packages/sklearn/feature_extraction/text.py:528: UserWarning: The parameter 'token_pattern' will not be used since 'tokenizer' is not None'\n",
            "  warnings.warn(\n"
          ]
        }
      ]
    },
    {
      "cell_type": "code",
      "source": [
        "investigate_vocabulary(vectorizer_TweetTokenizer.vocabulary_\n",
        "                       )"
      ],
      "metadata": {
        "id": "7oR5kNKVLLpm",
        "colab": {
          "base_uri": "https://localhost:8080/"
        },
        "outputId": "87884ad5-144a-4079-ad97-0fdb5653c951"
      },
      "execution_count": 108,
      "outputs": [
        {
          "output_type": "stream",
          "name": "stdout",
          "text": [
            "With digit:       3939\n",
            "With punctuation: 7338\n",
            "Hashtags:         1470\n",
            "Mentions:         1679\n"
          ]
        }
      ]
    },
    {
      "cell_type": "markdown",
      "source": [
        "**Сравнение:** \n",
        "С токенизатором CountVectorizer стал уделять намного больше внимания символам, он выделил @ и #, чего не делал без токенизатора,\n",
        "и оставил гораздо больше знаков препинаний (было 315, стало 7338 уникальных токенов)"
      ],
      "metadata": {
        "id": "Wetr80-ILULV"
      }
    },
    {
      "cell_type": "markdown",
      "metadata": {
        "id": "6_k_-i1x3HvM"
      },
      "source": [
        "## Задание 7 (2 балла)\n",
        "\n",
        "В scikit-learn мы можем оценивать процесс подсчета матрицы через CountVectorizer. У CountVectorizer, как и у других наследников \\_VectorizerMixin, есть аргумент tokenizer и preprocessor. preprocessor применится в самом начале к каждой строке вашего датасета, tokenizer же должен принять строку и вернуть токены.\n",
        "Давайте напишем кастомный токенайзер, которые сделает все, что нам нужно: \n",
        "\n",
        "0. Приведет все буквы к нижнему регистру\n",
        "1. Разобьет текст на токены с помощью TweetTokenizer из пакета nltk\n",
        "2. Удалит все токены содержащие не латинские буквы, кроме смайликов (будем считать ими токены содержащие только пунктуацию и, как минимум, одну скобочку) и хэштегов, которые после начальной # содержат только латинские буквы.\n",
        "3. Удалит все токены, которые перечислены в nltk.corpus.stopwords.words('english')\n",
        "4. Проведет стемминг с помощью SnowballStemmer\n",
        "\n"
      ]
    },
    {
      "cell_type": "code",
      "source": [
        "from string import punctuation\n",
        "from nltk.tokenize import TweetTokenizer\n",
        "from nltk.stem.snowball import SnowballStemmer\n",
        "import nltk\n",
        "\n",
        "nltk.download('stopwords')"
      ],
      "metadata": {
        "colab": {
          "base_uri": "https://localhost:8080/"
        },
        "id": "157n-_3stNO_",
        "outputId": "f1cf94ef-f756-4bbe-d186-b61b98e4e005"
      },
      "execution_count": 109,
      "outputs": [
        {
          "output_type": "stream",
          "name": "stderr",
          "text": [
            "[nltk_data] Downloading package stopwords to /root/nltk_data...\n",
            "[nltk_data]   Package stopwords is already up-to-date!\n"
          ]
        },
        {
          "output_type": "execute_result",
          "data": {
            "text/plain": [
              "True"
            ]
          },
          "metadata": {},
          "execution_count": 109
        }
      ]
    },
    {
      "cell_type": "code",
      "source": [
        "\n",
        "def contains_only_latin_letters(s: str) -> bool:\n",
        "    alph = 'abcdefghijklmnopqrstuvwxyz'\n",
        "    for c in s:\n",
        "      if c not in alph:\n",
        "        return False\n",
        "    return True\n",
        "\n",
        "def is_emoji(s: str) -> bool:\n",
        "    for x in s:\n",
        "      if not x in punctuation:\n",
        "        return False\n",
        "    return s.count('(')>0 or s.count(')')>0 or s.count('[')>0 or s.count(']')>0 or s.count('{')>0 or s.count('}')>0\n",
        "\n",
        "def is_hashtag(s: str) -> bool:\n",
        "    alph = 'abcdefghijklmnopqrstuvwxyz'\n",
        "    if s[0]=='#': \n",
        "      for x in s[1:]:\n",
        "        if x not in alph:\n",
        "          return False\n",
        "      return True\n",
        "    return False\n",
        "    \n",
        "\n",
        "def tokenize(s: str) -> list[str]:\n",
        "    return TweetTokenizer().tokenize(s)\n",
        "\n",
        "def delete_not_eng(tokens: list[str]) -> list[str]:\n",
        "    tokens_to_return = []\n",
        "    for token in tokens:\n",
        "      if contains_only_latin_letters(token) or is_hashtag(token) or is_emoji(token):\n",
        "        tokens_to_return.append(token)\n",
        "    return tokens_to_return \n",
        "\n",
        "\n",
        "\n",
        "def delete_stop_words(tokens: list[str]) -> list[str]:\n",
        "        tokens_to_return = []\n",
        "        for token in tokens:\n",
        "            if token in nltk.corpus.stopwords.words('english'):\n",
        "                continue\n",
        "            else:\n",
        "                tokens_to_return.append(token)\n",
        "                \n",
        "        return tokens_to_return\n",
        "\n",
        "def stem(tokens: list[str]) -> list[str]:\n",
        "        tokens_stemmed = [SnowballStemmer('english').stem(x) for x in tokens]\n",
        "        return tokens_stemmed\n",
        "\n",
        "def custom_tokenizer(s: str) -> List[str]:    \n",
        "    s = s.lower()\n",
        "    tokens = tokenize(s)\n",
        "    tokens = delete_not_eng(tokens)\n",
        "    tokens = delete_stop_words(tokens)\n",
        "    processed_tokens = stem(tokens)\n",
        "    return processed_tokens\n",
        "\n",
        "\n",
        "  "
      ],
      "metadata": {
        "id": "qhwmi7DEMD25"
      },
      "execution_count": 110,
      "outputs": []
    },
    {
      "cell_type": "code",
      "source": [
        "custom_tokenizer('She LOVES painting :-) #art %qwert')"
      ],
      "metadata": {
        "colab": {
          "base_uri": "https://localhost:8080/"
        },
        "id": "vYzPZzf8O6vj",
        "outputId": "0554bc45-c6ac-4c2a-c079-2c5017f36490"
      },
      "execution_count": 111,
      "outputs": [
        {
          "output_type": "execute_result",
          "data": {
            "text/plain": [
              "['love', 'paint', ':-)', '#art', 'qwert']"
            ]
          },
          "metadata": {},
          "execution_count": 111
        }
      ]
    },
    {
      "cell_type": "markdown",
      "source": [
        "Продемонстрируйте работу вашей функции на первых десяти текстах в обучающей выборке."
      ],
      "metadata": {
        "id": "2S_-ThAf5It4"
      }
    },
    {
      "cell_type": "code",
      "source": [
        "train_top10_tokenized = train[:10].copy()\n",
        "train_top10_tokenized['text'] = train_top10_tokenized['text'].apply(lambda x: custom_tokenizer(x))\n",
        "train_top10_tokenized"
      ],
      "metadata": {
        "id": "A1fh3_itPz7D",
        "colab": {
          "base_uri": "https://localhost:8080/",
          "height": 363
        },
        "outputId": "c0be7607-b804-4441-c336-d1e6e5d2bcd0"
      },
      "execution_count": 112,
      "outputs": [
        {
          "output_type": "execute_result",
          "data": {
            "text/plain": [
              "                                                   text  target\n",
              "1186  [bridg, ash, australia, collaps, trent, bridg,...       0\n",
              "4071  [hail, carol, stream, illinoi, great, michigan...       1\n",
              "5461  [polic, houston, cnn, tennesse, movi, theater,...       1\n",
              "5787      [riot, still, riot, coupl, hour, left, class]       1\n",
              "7445  [wound, lake, highland, crack, path, wipe, mor...       0\n",
              "151   [airplan, somewher, expert, franc, begin, exam...       1\n",
              "915   [bloodi, isol, citi, world, perth, came, kill,...       1\n",
              "1305                  [burn, except, idk, realli, burn]       0\n",
              "2570                [destroy, (, ask, ), destroy, hous]       0\n",
              "7399  [wound, maracay, nirgua, venezuela, polic, off...       1"
            ],
            "text/html": [
              "\n",
              "  <div id=\"df-eeffe3c2-4a7a-4d89-bd1b-3ae97b50a25c\">\n",
              "    <div class=\"colab-df-container\">\n",
              "      <div>\n",
              "<style scoped>\n",
              "    .dataframe tbody tr th:only-of-type {\n",
              "        vertical-align: middle;\n",
              "    }\n",
              "\n",
              "    .dataframe tbody tr th {\n",
              "        vertical-align: top;\n",
              "    }\n",
              "\n",
              "    .dataframe thead th {\n",
              "        text-align: right;\n",
              "    }\n",
              "</style>\n",
              "<table border=\"1\" class=\"dataframe\">\n",
              "  <thead>\n",
              "    <tr style=\"text-align: right;\">\n",
              "      <th></th>\n",
              "      <th>text</th>\n",
              "      <th>target</th>\n",
              "    </tr>\n",
              "  </thead>\n",
              "  <tbody>\n",
              "    <tr>\n",
              "      <th>1186</th>\n",
              "      <td>[bridg, ash, australia, collaps, trent, bridg,...</td>\n",
              "      <td>0</td>\n",
              "    </tr>\n",
              "    <tr>\n",
              "      <th>4071</th>\n",
              "      <td>[hail, carol, stream, illinoi, great, michigan...</td>\n",
              "      <td>1</td>\n",
              "    </tr>\n",
              "    <tr>\n",
              "      <th>5461</th>\n",
              "      <td>[polic, houston, cnn, tennesse, movi, theater,...</td>\n",
              "      <td>1</td>\n",
              "    </tr>\n",
              "    <tr>\n",
              "      <th>5787</th>\n",
              "      <td>[riot, still, riot, coupl, hour, left, class]</td>\n",
              "      <td>1</td>\n",
              "    </tr>\n",
              "    <tr>\n",
              "      <th>7445</th>\n",
              "      <td>[wound, lake, highland, crack, path, wipe, mor...</td>\n",
              "      <td>0</td>\n",
              "    </tr>\n",
              "    <tr>\n",
              "      <th>151</th>\n",
              "      <td>[airplan, somewher, expert, franc, begin, exam...</td>\n",
              "      <td>1</td>\n",
              "    </tr>\n",
              "    <tr>\n",
              "      <th>915</th>\n",
              "      <td>[bloodi, isol, citi, world, perth, came, kill,...</td>\n",
              "      <td>1</td>\n",
              "    </tr>\n",
              "    <tr>\n",
              "      <th>1305</th>\n",
              "      <td>[burn, except, idk, realli, burn]</td>\n",
              "      <td>0</td>\n",
              "    </tr>\n",
              "    <tr>\n",
              "      <th>2570</th>\n",
              "      <td>[destroy, (, ask, ), destroy, hous]</td>\n",
              "      <td>0</td>\n",
              "    </tr>\n",
              "    <tr>\n",
              "      <th>7399</th>\n",
              "      <td>[wound, maracay, nirgua, venezuela, polic, off...</td>\n",
              "      <td>1</td>\n",
              "    </tr>\n",
              "  </tbody>\n",
              "</table>\n",
              "</div>\n",
              "      <button class=\"colab-df-convert\" onclick=\"convertToInteractive('df-eeffe3c2-4a7a-4d89-bd1b-3ae97b50a25c')\"\n",
              "              title=\"Convert this dataframe to an interactive table.\"\n",
              "              style=\"display:none;\">\n",
              "        \n",
              "  <svg xmlns=\"http://www.w3.org/2000/svg\" height=\"24px\"viewBox=\"0 0 24 24\"\n",
              "       width=\"24px\">\n",
              "    <path d=\"M0 0h24v24H0V0z\" fill=\"none\"/>\n",
              "    <path d=\"M18.56 5.44l.94 2.06.94-2.06 2.06-.94-2.06-.94-.94-2.06-.94 2.06-2.06.94zm-11 1L8.5 8.5l.94-2.06 2.06-.94-2.06-.94L8.5 2.5l-.94 2.06-2.06.94zm10 10l.94 2.06.94-2.06 2.06-.94-2.06-.94-.94-2.06-.94 2.06-2.06.94z\"/><path d=\"M17.41 7.96l-1.37-1.37c-.4-.4-.92-.59-1.43-.59-.52 0-1.04.2-1.43.59L10.3 9.45l-7.72 7.72c-.78.78-.78 2.05 0 2.83L4 21.41c.39.39.9.59 1.41.59.51 0 1.02-.2 1.41-.59l7.78-7.78 2.81-2.81c.8-.78.8-2.07 0-2.86zM5.41 20L4 18.59l7.72-7.72 1.47 1.35L5.41 20z\"/>\n",
              "  </svg>\n",
              "      </button>\n",
              "      \n",
              "  <style>\n",
              "    .colab-df-container {\n",
              "      display:flex;\n",
              "      flex-wrap:wrap;\n",
              "      gap: 12px;\n",
              "    }\n",
              "\n",
              "    .colab-df-convert {\n",
              "      background-color: #E8F0FE;\n",
              "      border: none;\n",
              "      border-radius: 50%;\n",
              "      cursor: pointer;\n",
              "      display: none;\n",
              "      fill: #1967D2;\n",
              "      height: 32px;\n",
              "      padding: 0 0 0 0;\n",
              "      width: 32px;\n",
              "    }\n",
              "\n",
              "    .colab-df-convert:hover {\n",
              "      background-color: #E2EBFA;\n",
              "      box-shadow: 0px 1px 2px rgba(60, 64, 67, 0.3), 0px 1px 3px 1px rgba(60, 64, 67, 0.15);\n",
              "      fill: #174EA6;\n",
              "    }\n",
              "\n",
              "    [theme=dark] .colab-df-convert {\n",
              "      background-color: #3B4455;\n",
              "      fill: #D2E3FC;\n",
              "    }\n",
              "\n",
              "    [theme=dark] .colab-df-convert:hover {\n",
              "      background-color: #434B5C;\n",
              "      box-shadow: 0px 1px 3px 1px rgba(0, 0, 0, 0.15);\n",
              "      filter: drop-shadow(0px 1px 2px rgba(0, 0, 0, 0.3));\n",
              "      fill: #FFFFFF;\n",
              "    }\n",
              "  </style>\n",
              "\n",
              "      <script>\n",
              "        const buttonEl =\n",
              "          document.querySelector('#df-eeffe3c2-4a7a-4d89-bd1b-3ae97b50a25c button.colab-df-convert');\n",
              "        buttonEl.style.display =\n",
              "          google.colab.kernel.accessAllowed ? 'block' : 'none';\n",
              "\n",
              "        async function convertToInteractive(key) {\n",
              "          const element = document.querySelector('#df-eeffe3c2-4a7a-4d89-bd1b-3ae97b50a25c');\n",
              "          const dataTable =\n",
              "            await google.colab.kernel.invokeFunction('convertToInteractive',\n",
              "                                                     [key], {});\n",
              "          if (!dataTable) return;\n",
              "\n",
              "          const docLinkHtml = 'Like what you see? Visit the ' +\n",
              "            '<a target=\"_blank\" href=https://colab.research.google.com/notebooks/data_table.ipynb>data table notebook</a>'\n",
              "            + ' to learn more about interactive tables.';\n",
              "          element.innerHTML = '';\n",
              "          dataTable['output_type'] = 'display_data';\n",
              "          await google.colab.output.renderOutput(dataTable, element);\n",
              "          const docLink = document.createElement('div');\n",
              "          docLink.innerHTML = docLinkHtml;\n",
              "          element.appendChild(docLink);\n",
              "        }\n",
              "      </script>\n",
              "    </div>\n",
              "  </div>\n",
              "  "
            ]
          },
          "metadata": {},
          "execution_count": 112
        }
      ]
    },
    {
      "cell_type": "markdown",
      "metadata": {
        "id": "a5lNZ4tb3HvN"
      },
      "source": [
        "## Задание 8 (1 балл)\n",
        "\n",
        "1. Примените CountVectorizer с реализованным выше токенизатором к обучающим и тестовым выборкам.\n"
      ]
    },
    {
      "cell_type": "code",
      "source": [
        "vectorizer = CountVectorizer( tokenizer=custom_tokenizer)\n",
        "\n",
        "X_train = train['text']\n",
        "y_train = train['target']\n",
        "X_test = test['text']\n",
        "y_test = test['target']\n",
        "bow = vectorizer.fit_transform(X_train)\n",
        "bow_test = vectorizer.transform(X_test)"
      ],
      "metadata": {
        "id": "LDqixz7QQEbn",
        "colab": {
          "base_uri": "https://localhost:8080/"
        },
        "outputId": "bdf4efc7-7afc-421b-991f-71b275dcedc1"
      },
      "execution_count": 113,
      "outputs": [
        {
          "output_type": "stream",
          "name": "stderr",
          "text": [
            "/usr/local/lib/python3.10/dist-packages/sklearn/feature_extraction/text.py:528: UserWarning: The parameter 'token_pattern' will not be used since 'tokenizer' is not None'\n",
            "  warnings.warn(\n"
          ]
        }
      ]
    },
    {
      "cell_type": "markdown",
      "source": [
        "2. Обучите LogisticRegression на полученных признаках.\n"
      ],
      "metadata": {
        "id": "YcetwuEi5ds9"
      }
    },
    {
      "cell_type": "code",
      "source": [
        "from sklearn.linear_model import LogisticRegression\n",
        "clf = LogisticRegression(max_iter=200,random_state=42)\n",
        "clf.fit(bow,y_train)\n"
      ],
      "metadata": {
        "id": "BVj03QV2QbWl",
        "colab": {
          "base_uri": "https://localhost:8080/",
          "height": 74
        },
        "outputId": "f24e7771-282a-4859-d628-cce6231843a4"
      },
      "execution_count": 114,
      "outputs": [
        {
          "output_type": "execute_result",
          "data": {
            "text/plain": [
              "LogisticRegression(max_iter=200, random_state=42)"
            ],
            "text/html": [
              "<style>#sk-container-id-4 {color: black;background-color: white;}#sk-container-id-4 pre{padding: 0;}#sk-container-id-4 div.sk-toggleable {background-color: white;}#sk-container-id-4 label.sk-toggleable__label {cursor: pointer;display: block;width: 100%;margin-bottom: 0;padding: 0.3em;box-sizing: border-box;text-align: center;}#sk-container-id-4 label.sk-toggleable__label-arrow:before {content: \"▸\";float: left;margin-right: 0.25em;color: #696969;}#sk-container-id-4 label.sk-toggleable__label-arrow:hover:before {color: black;}#sk-container-id-4 div.sk-estimator:hover label.sk-toggleable__label-arrow:before {color: black;}#sk-container-id-4 div.sk-toggleable__content {max-height: 0;max-width: 0;overflow: hidden;text-align: left;background-color: #f0f8ff;}#sk-container-id-4 div.sk-toggleable__content pre {margin: 0.2em;color: black;border-radius: 0.25em;background-color: #f0f8ff;}#sk-container-id-4 input.sk-toggleable__control:checked~div.sk-toggleable__content {max-height: 200px;max-width: 100%;overflow: auto;}#sk-container-id-4 input.sk-toggleable__control:checked~label.sk-toggleable__label-arrow:before {content: \"▾\";}#sk-container-id-4 div.sk-estimator input.sk-toggleable__control:checked~label.sk-toggleable__label {background-color: #d4ebff;}#sk-container-id-4 div.sk-label input.sk-toggleable__control:checked~label.sk-toggleable__label {background-color: #d4ebff;}#sk-container-id-4 input.sk-hidden--visually {border: 0;clip: rect(1px 1px 1px 1px);clip: rect(1px, 1px, 1px, 1px);height: 1px;margin: -1px;overflow: hidden;padding: 0;position: absolute;width: 1px;}#sk-container-id-4 div.sk-estimator {font-family: monospace;background-color: #f0f8ff;border: 1px dotted black;border-radius: 0.25em;box-sizing: border-box;margin-bottom: 0.5em;}#sk-container-id-4 div.sk-estimator:hover {background-color: #d4ebff;}#sk-container-id-4 div.sk-parallel-item::after {content: \"\";width: 100%;border-bottom: 1px solid gray;flex-grow: 1;}#sk-container-id-4 div.sk-label:hover label.sk-toggleable__label {background-color: #d4ebff;}#sk-container-id-4 div.sk-serial::before {content: \"\";position: absolute;border-left: 1px solid gray;box-sizing: border-box;top: 0;bottom: 0;left: 50%;z-index: 0;}#sk-container-id-4 div.sk-serial {display: flex;flex-direction: column;align-items: center;background-color: white;padding-right: 0.2em;padding-left: 0.2em;position: relative;}#sk-container-id-4 div.sk-item {position: relative;z-index: 1;}#sk-container-id-4 div.sk-parallel {display: flex;align-items: stretch;justify-content: center;background-color: white;position: relative;}#sk-container-id-4 div.sk-item::before, #sk-container-id-4 div.sk-parallel-item::before {content: \"\";position: absolute;border-left: 1px solid gray;box-sizing: border-box;top: 0;bottom: 0;left: 50%;z-index: -1;}#sk-container-id-4 div.sk-parallel-item {display: flex;flex-direction: column;z-index: 1;position: relative;background-color: white;}#sk-container-id-4 div.sk-parallel-item:first-child::after {align-self: flex-end;width: 50%;}#sk-container-id-4 div.sk-parallel-item:last-child::after {align-self: flex-start;width: 50%;}#sk-container-id-4 div.sk-parallel-item:only-child::after {width: 0;}#sk-container-id-4 div.sk-dashed-wrapped {border: 1px dashed gray;margin: 0 0.4em 0.5em 0.4em;box-sizing: border-box;padding-bottom: 0.4em;background-color: white;}#sk-container-id-4 div.sk-label label {font-family: monospace;font-weight: bold;display: inline-block;line-height: 1.2em;}#sk-container-id-4 div.sk-label-container {text-align: center;}#sk-container-id-4 div.sk-container {/* jupyter's `normalize.less` sets `[hidden] { display: none; }` but bootstrap.min.css set `[hidden] { display: none !important; }` so we also need the `!important` here to be able to override the default hidden behavior on the sphinx rendered scikit-learn.org. See: https://github.com/scikit-learn/scikit-learn/issues/21755 */display: inline-block !important;position: relative;}#sk-container-id-4 div.sk-text-repr-fallback {display: none;}</style><div id=\"sk-container-id-4\" class=\"sk-top-container\"><div class=\"sk-text-repr-fallback\"><pre>LogisticRegression(max_iter=200, random_state=42)</pre><b>In a Jupyter environment, please rerun this cell to show the HTML representation or trust the notebook. <br />On GitHub, the HTML representation is unable to render, please try loading this page with nbviewer.org.</b></div><div class=\"sk-container\" hidden><div class=\"sk-item\"><div class=\"sk-estimator sk-toggleable\"><input class=\"sk-toggleable__control sk-hidden--visually\" id=\"sk-estimator-id-4\" type=\"checkbox\" checked><label for=\"sk-estimator-id-4\" class=\"sk-toggleable__label sk-toggleable__label-arrow\">LogisticRegression</label><div class=\"sk-toggleable__content\"><pre>LogisticRegression(max_iter=200, random_state=42)</pre></div></div></div></div></div>"
            ]
          },
          "metadata": {},
          "execution_count": 114
        }
      ]
    },
    {
      "cell_type": "markdown",
      "source": [
        "3. Посчитайте метрику f1-score на тестовых данных."
      ],
      "metadata": {
        "id": "6Ch6uz2P5e-T"
      }
    },
    {
      "cell_type": "code",
      "source": [
        "from sklearn.metrics import classification_report, roc_auc_score\n",
        "\n",
        "pred = clf.predict(bow_test)\n",
        "print(classification_report(y_test,pred,digits=3))"
      ],
      "metadata": {
        "id": "osyC0pdT3cSD",
        "colab": {
          "base_uri": "https://localhost:8080/"
        },
        "outputId": "65e01a9c-6a26-42ca-ffb8-bfde49c4ff8f"
      },
      "execution_count": 115,
      "outputs": [
        {
          "output_type": "stream",
          "name": "stdout",
          "text": [
            "              precision    recall  f1-score   support\n",
            "\n",
            "           0      0.808     0.853     0.830      1318\n",
            "           1      0.783     0.724     0.752       966\n",
            "\n",
            "    accuracy                          0.798      2284\n",
            "   macro avg      0.795     0.788     0.791      2284\n",
            "weighted avg      0.797     0.798     0.797      2284\n",
            "\n"
          ]
        }
      ]
    },
    {
      "cell_type": "markdown",
      "metadata": {
        "id": "aFIEYOMZ3HvN"
      },
      "source": [
        "## Задание 9 (1 балл)\n",
        "\n",
        "1. Повторите 8 задание, но с tf-idf векторизатором. Как изменилось качество?\n"
      ]
    },
    {
      "cell_type": "code",
      "source": [
        "from sklearn.feature_extraction.text import TfidfVectorizer\n",
        "\n",
        "tfidf_vectorizer = TfidfVectorizer(tokenizer=custom_tokenizer)\n",
        "bow_tfidf = tfidf_vectorizer.fit_transform(X_train)\n",
        "bow_test_tfidf = tfidf_vectorizer.transform(X_test)\n",
        "clf_tfidf = LogisticRegression(max_iter=200, random_state=42)\n",
        "clf_tfidf.fit(bow_tfidf, y_train)\n",
        "pred_tfidf = clf_tfidf.predict(bow_test_tfidf)\n",
        "print(classification_report(y_test, pred_tfidf,digits=3))"
      ],
      "metadata": {
        "id": "cDqs61hl3ve3",
        "colab": {
          "base_uri": "https://localhost:8080/"
        },
        "outputId": "6eb1e30c-7351-4e5a-f29d-322c005447a1"
      },
      "execution_count": 116,
      "outputs": [
        {
          "output_type": "stream",
          "name": "stderr",
          "text": [
            "/usr/local/lib/python3.10/dist-packages/sklearn/feature_extraction/text.py:528: UserWarning: The parameter 'token_pattern' will not be used since 'tokenizer' is not None'\n",
            "  warnings.warn(\n"
          ]
        },
        {
          "output_type": "stream",
          "name": "stdout",
          "text": [
            "              precision    recall  f1-score   support\n",
            "\n",
            "           0      0.794     0.875     0.832      1318\n",
            "           1      0.801     0.689     0.741       966\n",
            "\n",
            "    accuracy                          0.796      2284\n",
            "   macro avg      0.797     0.782     0.787      2284\n",
            "weighted avg      0.797     0.796     0.794      2284\n",
            "\n"
          ]
        }
      ]
    },
    {
      "cell_type": "markdown",
      "source": [
        "1. **Ответ:** Ну... Вроде как никак не изменилось)"
      ],
      "metadata": {
        "id": "SXaNclTZSFjO"
      }
    },
    {
      "cell_type": "markdown",
      "source": [
        "2. Мы можем еще сильнее уменьшить размер нашей матрицы, если отбросим значения df близкие к единице. Скорее всего такие слова не несут много информации о категории, так как встречаются достаточно часто. Ограничьте максимальный df в параметрах TfIdfVectorizer, поставьте верхнюю границу равную 0.9. Как изменился размер матрицы, как изменилось качество?\n"
      ],
      "metadata": {
        "id": "CPtk0lCA5POY"
      }
    },
    {
      "cell_type": "code",
      "source": [
        "tfidf_vectorizer = TfidfVectorizer(tokenizer=custom_tokenizer, max_df=0.9)\n",
        "bow_tfidf = tfidf_vectorizer.fit_transform(X_train)\n",
        "bow_test_tfidf = tfidf_vectorizer.transform(X_test)\n",
        "clf_tfidf = LogisticRegression(max_iter=200, random_state=42)\n",
        "clf_tfidf.fit(bow_tfidf, y_train)\n",
        "pred_tfidf = clf_tfidf.predict(bow_test_tfidf)\n",
        "print(classification_report(y_test, pred_tfidf, digits=3))"
      ],
      "metadata": {
        "id": "EU-MRXyRSHLm",
        "colab": {
          "base_uri": "https://localhost:8080/"
        },
        "outputId": "8285779b-260e-4d2f-d6d8-2fb3d7ad98df"
      },
      "execution_count": 117,
      "outputs": [
        {
          "output_type": "stream",
          "name": "stderr",
          "text": [
            "/usr/local/lib/python3.10/dist-packages/sklearn/feature_extraction/text.py:528: UserWarning: The parameter 'token_pattern' will not be used since 'tokenizer' is not None'\n",
            "  warnings.warn(\n"
          ]
        },
        {
          "output_type": "stream",
          "name": "stdout",
          "text": [
            "              precision    recall  f1-score   support\n",
            "\n",
            "           0      0.794     0.875     0.832      1318\n",
            "           1      0.801     0.689     0.741       966\n",
            "\n",
            "    accuracy                          0.796      2284\n",
            "   macro avg      0.797     0.782     0.787      2284\n",
            "weighted avg      0.797     0.796     0.794      2284\n",
            "\n"
          ]
        }
      ]
    },
    {
      "cell_type": "markdown",
      "source": [
        "2. **Ответ:** Изменение max_df аналогично почти не влияет на качество модели, а лишь уменьшает матрицу"
      ],
      "metadata": {
        "id": "4Two_O3rSVmh"
      }
    },
    {
      "cell_type": "markdown",
      "source": [
        "3. Также мы можем уменьшить размер матрицы, удаляя слова со слишком маленьким df. Удалось ли добиться улучшения качества? "
      ],
      "metadata": {
        "id": "VhyjbI5X5QnG"
      }
    },
    {
      "cell_type": "code",
      "source": [
        "tfidf_vectorizer = TfidfVectorizer(tokenizer=custom_tokenizer, min_df=0.001, max_df=0.9)\n",
        "bow_tfidf = tfidf_vectorizer.fit_transform(X_train)\n",
        "bow_test_tfidf = tfidf_vectorizer.transform(X_test)\n",
        "clf_tfidf = LogisticRegression(max_iter=200, random_state=42)\n",
        "clf_tfidf.fit(bow_tfidf, y_train)\n",
        "pred_tfidf = clf_tfidf.predict(bow_test_tfidf)\n",
        "print(classification_report(y_test, pred_tfidf))"
      ],
      "metadata": {
        "id": "9mNpIxv6SfKc",
        "colab": {
          "base_uri": "https://localhost:8080/"
        },
        "outputId": "ca139a28-369e-4464-c4a6-fb580dbe2157"
      },
      "execution_count": 118,
      "outputs": [
        {
          "output_type": "stream",
          "name": "stderr",
          "text": [
            "/usr/local/lib/python3.10/dist-packages/sklearn/feature_extraction/text.py:528: UserWarning: The parameter 'token_pattern' will not be used since 'tokenizer' is not None'\n",
            "  warnings.warn(\n"
          ]
        },
        {
          "output_type": "stream",
          "name": "stdout",
          "text": [
            "              precision    recall  f1-score   support\n",
            "\n",
            "           0       0.80      0.86      0.83      1318\n",
            "           1       0.79      0.70      0.74       966\n",
            "\n",
            "    accuracy                           0.80      2284\n",
            "   macro avg       0.79      0.78      0.79      2284\n",
            "weighted avg       0.79      0.80      0.79      2284\n",
            "\n"
          ]
        }
      ]
    },
    {
      "cell_type": "markdown",
      "source": [
        "3. **Ответ:** При изменении границ размер матрицы уменьшается, но на качество модели почти не влияет :( Если поставить min_df слишком большим, то f1-score вообще упадет до 0.5"
      ],
      "metadata": {
        "id": "imeD8skxSqdg"
      }
    },
    {
      "cell_type": "markdown",
      "metadata": {
        "id": "1l1sx4nB3HvN"
      },
      "source": [
        "## Задание 10 (1 балл)\n",
        "\n",
        "Еще один популяпный трюк, который позволит уменьшить количество признаков называется hashing trick. Его суть в том, то мы случайно группируем признаки ииии  ..... складываем их! А потом удаляем исходные признаки. В итоге все наши признаки это просто суммы исходных. Звучит странно, но это отлично работает. Давайте проверим этот трюк в нашем сеттинге.\n",
        "Также при таком подходе вам не нужно хранить словарь token->index, что тоже иногда полезно.\n",
        "\n",
        "1. Повторите задание 8 с HashingVectorizer, укажите количество фичей равное 5000.\n"
      ]
    },
    {
      "cell_type": "code",
      "source": [
        "from sklearn.feature_extraction.text import HashingVectorizer\n",
        "\n",
        "hashing_vectorizer = HashingVectorizer(tokenizer=custom_tokenizer, n_features=5000)\n",
        "bow_hash = hashing_vectorizer.fit_transform(X_train)\n",
        "bow_test_hash = hashing_vectorizer.transform(X_test)\n",
        "clf_hash = LogisticRegression(max_iter=200, random_state=42)\n",
        "clf_hash.fit(bow_hash, y_train)\n",
        "pred_hash = clf_hash.predict(bow_test_hash)\n",
        "print(classification_report(y_test, pred_hash, digits=3))"
      ],
      "metadata": {
        "id": "8qSoW894RXxz",
        "colab": {
          "base_uri": "https://localhost:8080/"
        },
        "outputId": "8550d780-76b0-40e8-81e3-dbc995889a97"
      },
      "execution_count": 119,
      "outputs": [
        {
          "output_type": "stream",
          "name": "stderr",
          "text": [
            "/usr/local/lib/python3.10/dist-packages/sklearn/feature_extraction/text.py:528: UserWarning: The parameter 'token_pattern' will not be used since 'tokenizer' is not None'\n",
            "  warnings.warn(\n"
          ]
        },
        {
          "output_type": "stream",
          "name": "stdout",
          "text": [
            "              precision    recall  f1-score   support\n",
            "\n",
            "           0      0.780     0.861     0.818      1318\n",
            "           1      0.779     0.668     0.719       966\n",
            "\n",
            "    accuracy                          0.779      2284\n",
            "   macro avg      0.779     0.764     0.769      2284\n",
            "weighted avg      0.779     0.779     0.776      2284\n",
            "\n"
          ]
        }
      ]
    },
    {
      "cell_type": "markdown",
      "source": [
        "2. Какой из подходов показал самый высокий результат?"
      ],
      "metadata": {
        "id": "1C3I4ceg6AG-"
      }
    },
    {
      "cell_type": "markdown",
      "source": [
        "2. **Ответ:** Наилучшим в итоге оказался первоначальный подход с CountVectorizer"
      ],
      "metadata": {
        "id": "_bIfyVlOS9Lu"
      }
    },
    {
      "cell_type": "markdown",
      "metadata": {
        "id": "zylJ6l0R3HvN"
      },
      "source": [
        "## Задание 11 (1 балл)\n",
        "\n",
        "В этом задании нужно добиться f1 меры хотя в 0.75 на тестовых данных."
      ]
    },
    {
      "cell_type": "code",
      "source": [
        "# В задании 8 удалось добиться f1-score равным 0.752, соответственно модель с CountVectorizer и custom_tokenizer даёт нам такую меру"
      ],
      "metadata": {
        "id": "GSTVApFeS-OY"
      },
      "execution_count": 120,
      "outputs": []
    }
  ],
  "metadata": {
    "kernelspec": {
      "display_name": "Python 3 (ipykernel)",
      "language": "python",
      "name": "python3"
    },
    "language_info": {
      "codemirror_mode": {
        "name": "ipython",
        "version": 3
      },
      "file_extension": ".py",
      "mimetype": "text/x-python",
      "name": "python",
      "nbconvert_exporter": "python",
      "pygments_lexer": "ipython3",
      "version": "3.8.5"
    },
    "colab": {
      "provenance": [],
      "collapsed_sections": [
        "YlLemInT3HvL",
        "A8CPBUal3HvL"
      ]
    }
  },
  "nbformat": 4,
  "nbformat_minor": 0
}