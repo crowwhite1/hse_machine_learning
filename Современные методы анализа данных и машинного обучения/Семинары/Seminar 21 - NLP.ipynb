{
  "cells": [
    {
      "cell_type": "markdown",
      "metadata": {
        "id": "JV_DFHwgFLxt"
      },
      "source": [
        "# Современные методы анализа данных и машинного обучения, БИ\n",
        "\n",
        "## НИУ ВШЭ, 2023-24 учебный год"
      ]
    },
    {
      "cell_type": "markdown",
      "metadata": {
        "id": "4g9bZIi-YdZz"
      },
      "source": [
        "# Семинар 21. Natural Language Processing basics"
      ]
    },
    {
      "cell_type": "code",
      "execution_count": null,
      "metadata": {
        "id": "mxZ0YJo5FCS9"
      },
      "outputs": [],
      "source": [
        "%%writefile requirements.txt\n",
        "torch\n",
        "numpy\n",
        "pandas\n",
        "scikit-learn\n",
        "razdel"
      ]
    },
    {
      "cell_type": "code",
      "execution_count": null,
      "metadata": {
        "id": "BCnesIoqFEom"
      },
      "outputs": [],
      "source": [
        "!pip3 install --upgrade -r requirements.txt"
      ]
    },
    {
      "cell_type": "markdown",
      "metadata": {
        "id": "bMNwfd9AwlQo"
      },
      "source": [
        "## Задача\n",
        "В рамках сегодняшнего семинара мы будем обучать модели классификации текста. В качестве датасета используем корпус коротких текстов, сформированный на основе русскоязычных сообщений из Twitter. Он содержит 114 991 положительных, 111 923 отрицательных твитов, а также базу неразмеченных твитов объемом 17 639 674 сообщений.\n"
      ]
    },
    {
      "cell_type": "code",
      "execution_count": null,
      "metadata": {
        "id": "jvNpmNNsFaj1"
      },
      "outputs": [],
      "source": [
        "!wget https://www.dropbox.com/s/r6u59ljhhjdg6j0/negative.csv\n",
        "!wget https://www.dropbox.com/s/fnpq3z4bcnoktiv/positive.csv"
      ]
    },
    {
      "cell_type": "markdown",
      "metadata": {
        "id": "Zu56HhMdXCKP"
      },
      "source": [
        "Перед началом обучения тексты прошли процедуру предварительной обработки:\n",
        "\n",
        "приведение к нижнему регистру;\n",
        "замена «ё» на «е»;\n",
        "замена ссылок на токен «URL»;\n",
        "замена упоминания пользователя на токен «USER»;\n",
        "удаление знаков пунктуации."
      ]
    },
    {
      "cell_type": "code",
      "execution_count": null,
      "metadata": {
        "colab": {
          "base_uri": "https://localhost:8080/",
          "height": 419
        },
        "id": "Nf-MhHp8FhRz",
        "outputId": "33293eb8-adf3-414b-8550-6c183d658da9"
      },
      "outputs": [
        {
          "data": {
            "text/html": [
              "<div>\n",
              "<style scoped>\n",
              "    .dataframe tbody tr th:only-of-type {\n",
              "        vertical-align: middle;\n",
              "    }\n",
              "\n",
              "    .dataframe tbody tr th {\n",
              "        vertical-align: top;\n",
              "    }\n",
              "\n",
              "    .dataframe thead th {\n",
              "        text-align: right;\n",
              "    }\n",
              "</style>\n",
              "<table border=\"1\" class=\"dataframe\">\n",
              "  <thead>\n",
              "    <tr style=\"text-align: right;\">\n",
              "      <th></th>\n",
              "      <th>text</th>\n",
              "      <th>label</th>\n",
              "    </tr>\n",
              "  </thead>\n",
              "  <tbody>\n",
              "    <tr>\n",
              "      <th>85913</th>\n",
              "      <td>раньше все встречались у фонтана в гуме а тепе...</td>\n",
              "      <td>1</td>\n",
              "    </tr>\n",
              "    <tr>\n",
              "      <th>42792</th>\n",
              "      <td>ни когда не пойму любовь женщины к женщине хот...</td>\n",
              "      <td>1</td>\n",
              "    </tr>\n",
              "    <tr>\n",
              "      <th>85556</th>\n",
              "      <td>два сеанса в кино вот что я люблю парам пам па...</td>\n",
              "      <td>1</td>\n",
              "    </tr>\n",
              "    <tr>\n",
              "      <th>36360</th>\n",
              "      <td>я нашел мой наряд для кэти перри USER URL via ...</td>\n",
              "      <td>1</td>\n",
              "    </tr>\n",
              "    <tr>\n",
              "      <th>154940</th>\n",
              "      <td>USER ууууу всеее развод обидки и все дела</td>\n",
              "      <td>1</td>\n",
              "    </tr>\n",
              "    <tr>\n",
              "      <th>...</th>\n",
              "      <td>...</td>\n",
              "      <td>...</td>\n",
              "    </tr>\n",
              "    <tr>\n",
              "      <th>73349</th>\n",
              "      <td>закидываю свой вконтакторостер строчками из пе...</td>\n",
              "      <td>1</td>\n",
              "    </tr>\n",
              "    <tr>\n",
              "      <th>109259</th>\n",
              "      <td>гребаный понедельник гребанные 4 пары хочу дом...</td>\n",
              "      <td>0</td>\n",
              "    </tr>\n",
              "    <tr>\n",
              "      <th>50057</th>\n",
              "      <td>болячки вроде подживают но губы увеличелись в ...</td>\n",
              "      <td>0</td>\n",
              "    </tr>\n",
              "    <tr>\n",
              "      <th>5192</th>\n",
              "      <td>USER я знала что она добрая а за что она тебе</td>\n",
              "      <td>1</td>\n",
              "    </tr>\n",
              "    <tr>\n",
              "      <th>128037</th>\n",
              "      <td>USER вместо похода в кино пришлось тащиться в ...</td>\n",
              "      <td>0</td>\n",
              "    </tr>\n",
              "  </tbody>\n",
              "</table>\n",
              "<p>143260 rows × 2 columns</p>\n",
              "</div>"
            ],
            "text/plain": [
              "                                                     text  label\n",
              "85913   раньше все встречались у фонтана в гуме а тепе...      1\n",
              "42792   ни когда не пойму любовь женщины к женщине хот...      1\n",
              "85556   два сеанса в кино вот что я люблю парам пам па...      1\n",
              "36360   я нашел мой наряд для кэти перри USER URL via ...      1\n",
              "154940          USER ууууу всеее развод обидки и все дела      1\n",
              "...                                                   ...    ...\n",
              "73349   закидываю свой вконтакторостер строчками из пе...      1\n",
              "109259  гребаный понедельник гребанные 4 пары хочу дом...      0\n",
              "50057   болячки вроде подживают но губы увеличелись в ...      0\n",
              "5192        USER я знала что она добрая а за что она тебе      1\n",
              "128037  USER вместо похода в кино пришлось тащиться в ...      0\n",
              "\n",
              "[143260 rows x 2 columns]"
            ]
          },
          "execution_count": 1,
          "metadata": {},
          "output_type": "execute_result"
        }
      ],
      "source": [
        "import re\n",
        "import torch\n",
        "import pandas as pd\n",
        "import numpy as np\n",
        "from sklearn.model_selection import train_test_split\n",
        "\n",
        "n = ['id', 'date', 'name', 'text', 'typr', 'rep', 'rtw', 'faw', 'stcount', 'foll', 'frien', 'listcount']\n",
        "data_positive = pd.read_csv('positive.csv', sep=';', names=n, usecols=['text'])\n",
        "data_negative = pd.read_csv('negative.csv', sep=';', names=n, usecols=['text'])\n",
        "\n",
        "sample_size = min(data_positive.shape[0], data_negative.shape[0])\n",
        "raw_data = np.concatenate((data_positive['text'].values[:sample_size], data_negative['text'].values[:sample_size]), axis=0)\n",
        "\n",
        "def preprocess_text(text):\n",
        "    text = text.lower().replace(\"ё\", \"е\")\n",
        "    text = re.sub('((www\\.[^\\s]+)|(https?://[^\\s]+))', 'URL', text)\n",
        "    text = re.sub('@[^\\s]+', 'USER', text)\n",
        "    text = re.sub('[^a-zA-Zа-яА-Я1-9]+', ' ', text)\n",
        "    text = re.sub(' +', ' ', text)\n",
        "    return text.strip()\n",
        "\n",
        "df_train = pd.DataFrame(columns=['text', 'label'])\n",
        "df_val = pd.DataFrame(columns=['text', 'label'])\n",
        "df_test = pd.DataFrame(columns=['text', 'label'])\n",
        "\n",
        "data = [preprocess_text(t) for t in raw_data]\n",
        "labels = [1] * sample_size + [0] * sample_size\n",
        "df_train['text'], df_test['text'], df_train['label'], df_test['label'] = train_test_split(data, labels, test_size=0.2, random_state=1)\n",
        "df_train, df_val = train_test_split(df_train, test_size=0.2, random_state=1)\n",
        "df_train"
      ]
    },
    {
      "cell_type": "markdown",
      "metadata": {
        "id": "Sh-H4s8_XCKS"
      },
      "source": [
        "Далее проводим процедуру токенизации для наших текстов"
      ]
    },
    {
      "cell_type": "code",
      "execution_count": null,
      "metadata": {
        "colab": {
          "base_uri": "https://localhost:8080/",
          "height": 71
        },
        "id": "Oe3n8ntM0pED",
        "outputId": "548d117a-346c-4441-d605-925678a2c4f4"
      },
      "outputs": [
        {
          "name": "stdout",
          "output_type": "stream",
          "text": [
            "17198\n",
            "['<unk>', 'USER', 'не', 'я', 'и', 'в', 'на', 'rt', 'а', 'что', 'URL', 'с', 'как', 'у', 'все', 'меня', 'то', 'это', 'так', 'мне', 'd', 'но', 'ты', 'ну', 'по', 'за', 'еще', 'уже', 'вот', 'да', 'же', 'только', 'сегодня', 'о', 'бы', 'нет', 'когда', 'хочу', 'к', 'очень', 'тебя', 'из', 'он', '3', 'день', 'просто', 'мы', 'будет', '2', 'от', 'было', 'если', 'тебе', 'теперь', 'надо', 'даже', 'тоже', 'завтра', 'кто', 'до', 'там', 'его', '1', 'вообще', 'есть', 'для', 'она', 'сейчас', 'спасибо', 'нас', 'буду', 'почему', 'блин', 'могу', 'люблю', 'без', 'знаю', 'вы', 'они', 'тут', 'или', 'раз', 'мой', 'чем', 'ничего', 'со', 'больше', 'всегда', '5', 'хорошо', 'дома', 'про', 'всем', 'можно', 'ее', 'может', 'год', 'потом', 'был', 'спать']\n"
          ]
        }
      ],
      "source": [
        "from collections import Counter\n",
        "from razdel import tokenize\n",
        "\n",
        "\n",
        "class Vocabulary:\n",
        "    def __init__(self):\n",
        "        self.word2index = {\n",
        "            \"<pad>\": 0,\n",
        "            \"<unk>\": 1\n",
        "        }\n",
        "        self.index2word = [\"<pad>\", \"<unk>\"]\n",
        "\n",
        "    def build(self, texts, min_count=7):\n",
        "        words_counter = Counter(token for tokens in texts for token in tokens)\n",
        "        for word, count in words_counter.most_common():\n",
        "            if count >= min_count:\n",
        "                self.word2index[word] = len(self.word2index)\n",
        "        self.index2word = [word for word, _ in sorted(self.word2index.items(), key=lambda x: x[1])]\n",
        "\n",
        "    @property\n",
        "    def size(self):\n",
        "        return len(self.index2word)\n",
        "\n",
        "    def top(self, n=100):\n",
        "        return self.index2word[1:n+1]\n",
        "\n",
        "    def get_index(self, word):\n",
        "        return self.word2index.get(word, 0)\n",
        "\n",
        "    def get_word(self, index):\n",
        "        return self.index2word[index]\n",
        "\n",
        "vocabulary = Vocabulary()\n",
        "train_texts = df_train[\"text\"].tolist()\n",
        "train_texts = [[token.text for token in tokenize(text)] for text in train_texts]\n",
        "vocabulary.build(train_texts)\n",
        "assert vocabulary.word2index[vocabulary.index2word[10]] == 10\n",
        "print(vocabulary.size)\n",
        "print(vocabulary.top(100))"
      ]
    },
    {
      "cell_type": "code",
      "execution_count": null,
      "metadata": {
        "id": "60u-RChbCLs5"
      },
      "outputs": [],
      "source": [
        "train_labels = df_train[\"label\"].tolist()\n",
        "val_labels = df_val[\"label\"].tolist()\n",
        "test_labels = df_test[\"label\"].tolist()\n",
        "train_texts = [[token.text for token in tokenize(text)] for text in df_train[\"text\"].tolist()]\n",
        "val_texts = [[token.text for token in tokenize(text)] for text in df_val[\"text\"].tolist()]\n",
        "test_texts = [[token.text for token in tokenize(text)] for text in df_test[\"text\"].tolist()]"
      ]
    },
    {
      "cell_type": "markdown",
      "metadata": {
        "id": "bbyvegrPXCKT"
      },
      "source": [
        "Далее базовая настройка torch и модели для обучения (пока без архитектуры)"
      ]
    },
    {
      "cell_type": "code",
      "execution_count": null,
      "metadata": {
        "id": "wvzu8KvSEyTQ"
      },
      "outputs": [],
      "source": [
        "np.random.seed(42)\n",
        "torch.manual_seed(42)\n",
        "torch.backends.cudnn.deterministic = True\n",
        "torch.backends.cudnn.benchmark = False"
      ]
    },
    {
      "cell_type": "code",
      "execution_count": null,
      "metadata": {
        "id": "kqasrnjdyrsu"
      },
      "outputs": [],
      "source": [
        "import torch\n",
        "import torch.nn as nn\n",
        "import torch.optim as optim\n",
        "import time\n",
        "\n",
        "def get_next_batch(texts, labels, max_seq_len=100, batch_size=128):\n",
        "    indices = np.arange(len(texts))\n",
        "    np.random.shuffle(indices)\n",
        "    batch_begin = 0\n",
        "    while batch_begin < len(texts):\n",
        "        batch_indices = indices[batch_begin: batch_begin + batch_size]\n",
        "        batch = []\n",
        "        batch_labels = []\n",
        "        batch_max_len = 0\n",
        "        for data_ind in batch_indices:\n",
        "            batch_labels.append(labels[data_ind])\n",
        "            sample = [vocabulary.get_index(token) for token in texts[data_ind]][:max_seq_len]\n",
        "            batch_max_len = max(batch_max_len, len(sample))\n",
        "            sample += [0] * (max_seq_len - len(sample))\n",
        "            batch.append(sample)\n",
        "        batch_begin += batch_size\n",
        "        batch = torch.cuda.LongTensor(batch)[:, :batch_max_len]\n",
        "        yield batch, torch.cuda.LongTensor(batch_labels)\n",
        "\n",
        "\n",
        "def train_model(model, texts, labels, val_texts, val_labels, epochs_count=10,\n",
        "                loss_every_nsteps=1000, lr=0.01, save_path=\"model.pt\", device_name=\"cuda\"):\n",
        "    params_count = sum(p.numel() for p in model.parameters() if p.requires_grad)\n",
        "    print(\"Trainable params: {}\".format(params_count))\n",
        "    device = torch.device(device_name)\n",
        "    model = model.to(device)\n",
        "    total_loss = 0\n",
        "    start_time = time.time()\n",
        "    optimizer = optim.Adam(model.parameters(), lr=lr)\n",
        "    loss_function = nn.CrossEntropyLoss().cuda()\n",
        "    prev_avg_val_loss = None\n",
        "    for epoch in range(epochs_count):\n",
        "        model.train()\n",
        "        for step, (batch, batch_labels) in enumerate(get_next_batch(texts, labels)):\n",
        "            logits = model(batch) # Прямой проход\n",
        "            loss = loss_function(logits, batch_labels) # Подсчёт ошибки\n",
        "            loss.backward() # Подсчёт градиентов dL/dw\n",
        "            optimizer.step() # Градиентный спуск или его модификации (в данном случае Adam)\n",
        "            optimizer.zero_grad() # Зануление градиентов, чтобы их спокойно менять на следующей итерации\n",
        "            total_loss += loss.item()\n",
        "        val_total_loss = 0\n",
        "        val_batch_count = 0\n",
        "        model.eval()\n",
        "        for _, (batch, batch_labels) in enumerate(get_next_batch(val_texts, val_labels)):\n",
        "            logits = model(batch) # Прямой проход\n",
        "            val_total_loss += loss_function(logits, batch_labels) # Подсчёт ошибки\n",
        "            val_batch_count += 1\n",
        "        avg_val_loss = val_total_loss/val_batch_count\n",
        "        print(\"Epoch = {}, Avg Train Loss = {:.4f}, Avg val loss = {:.4f}, Time = {:.2f}s\".format(epoch, total_loss / loss_every_nsteps, avg_val_loss, time.time() - start_time))\n",
        "        total_loss = 0\n",
        "        start_time = time.time()\n",
        "\n",
        "        if prev_avg_val_loss is not None and avg_val_loss > prev_avg_val_loss:\n",
        "            model.load_state_dict(torch.load(save_path))\n",
        "            model.eval()\n",
        "            break\n",
        "        prev_avg_val_loss = avg_val_loss\n",
        "        torch.save(model.state_dict(), save_path)"
      ]
    },
    {
      "cell_type": "code",
      "execution_count": null,
      "metadata": {
        "id": "1QU5PDZ-FTx-"
      },
      "outputs": [],
      "source": [
        "from sklearn.metrics import accuracy_score\n",
        "\n",
        "def test_model(model, texts, labels):\n",
        "    predicted_labels = []\n",
        "    true_labels = []\n",
        "    model.eval()\n",
        "    for step, (batch, batch_labels) in enumerate(get_next_batch(texts, labels)):\n",
        "        logits = model(batch) # Прямой проход\n",
        "        predicted_labels.extend(torch.max(logits.detach().cpu(), 1)[1].numpy())\n",
        "        true_labels.extend(batch_labels.detach().cpu().numpy())\n",
        "    print(accuracy_score(true_labels, predicted_labels))"
      ]
    },
    {
      "cell_type": "markdown",
      "metadata": {
        "id": "3Zukr6AKU6sA"
      },
      "source": [
        "## Сеть прямого распространения"
      ]
    },
    {
      "cell_type": "code",
      "execution_count": null,
      "metadata": {
        "id": "QLGvzru2CqXk"
      },
      "outputs": [],
      "source": [
        "class FFModel(nn.Module):\n",
        "    def __init__(self, vocab_size, embedding_dim=64, hidden_dim=48):\n",
        "        super().__init__()\n",
        "\n",
        "        self.embeddings_layer = nn.Embedding(vocab_size, embedding_dim)\n",
        "        self.hidden_layer = nn.Linear(embedding_dim, hidden_dim)\n",
        "        self.relu_layer = nn.ReLU()\n",
        "        self.dropout_layer = nn.Dropout(0.2)\n",
        "        self.out_layer = nn.Linear(hidden_dim, 2)\n",
        "\n",
        "    def forward(self, inputs):\n",
        "        projections = self.embeddings_layer.forward(inputs)\n",
        "        projections = self.dropout_layer(self.relu_layer(self.hidden_layer(projections)))\n",
        "        pooling = torch.max(projections, 1)[0]\n",
        "        output = self.out_layer.forward(pooling)\n",
        "        return output\n",
        "\n",
        "model = FFModel(vocabulary.size, 64)\n",
        "train_model(model, train_texts, train_labels, val_texts, val_labels)\n",
        "test_model(model, test_texts, test_labels)"
      ]
    },
    {
      "cell_type": "markdown",
      "metadata": {
        "id": "Wt2AxU9pTFml"
      },
      "source": [
        "## Свёрточная сеть\n",
        "![Conv example](https://image.ibb.co/e6t8ZK/Convolution.gif)\n",
        "\n",
        "![NLP conv example](https://user-images.githubusercontent.com/6512394/41590312-b1c28fca-73f1-11e8-9123-e26a03853cc7.png)\n",
        "\n",
        "*From [(Text-Classification-Pytorch)](https://github.com/dongjun-Lee/text-classification-models-tf)*\n"
      ]
    },
    {
      "cell_type": "code",
      "execution_count": null,
      "metadata": {
        "id": "J_MdLWj1--R3"
      },
      "outputs": [],
      "source": [
        "class CnnModel(nn.Module):\n",
        "    def __init__(self, vocab_size, embedding_dim=32, filters=((2, 10), (3, 8))):\n",
        "        super().__init__()\n",
        "\n",
        "        self.embeddings_layer = nn.Embedding(vocab_size, embedding_dim)\n",
        "        self.filters = []\n",
        "        all_filters_count = 0\n",
        "        for kernel_size, filters_count in filters:\n",
        "            all_filters_count += filters_count\n",
        "            self.filters.append(nn.Conv2d(1, filters_count, (kernel_size, embedding_dim), padding=(1, 0)))\n",
        "        self.filters = nn.ModuleList(self.filters)\n",
        "        self.relu_layer = nn.ReLU()\n",
        "        self.dropout_layer = nn.Dropout(0.2)\n",
        "        self.out_layer = nn.Linear(all_filters_count, 2)\n",
        "\n",
        "    def forward(self, inputs):\n",
        "        projections = self.embeddings_layer.forward(inputs)\n",
        "        projections = projections.unsqueeze(1)\n",
        "        # print(projections.size())\n",
        "        results = []\n",
        "        for f in self.filters:\n",
        "            convolved = self.dropout_layer(self.relu_layer(f(projections))).squeeze(3)\n",
        "            pooling = torch.max(convolved, 2)[0]\n",
        "            results.append(pooling)\n",
        "        output = torch.cat(results, 1)\n",
        "        output = self.out_layer.forward(output)\n",
        "        return output\n",
        "\n",
        "model = CnnModel(vocabulary.size, 64)\n",
        "train_model(model, train_texts, train_labels, val_texts, val_labels)\n",
        "test_model(model, test_texts, test_labels)"
      ]
    },
    {
      "cell_type": "markdown",
      "metadata": {
        "id": "6INxg5qBTE8L"
      },
      "source": [
        "## Рекуррентные сети\n",
        "\n",
        "![rnn](http://colah.github.io/posts/2015-08-Understanding-LSTMs/img/LSTM3-chain.png)  \n",
        "*From [(Understanding LSTM Networks)](http://colah.github.io/posts/2015-08-Understanding-LSTMs)*"
      ]
    },
    {
      "cell_type": "code",
      "execution_count": null,
      "metadata": {
        "id": "0IJeGGgGyfao"
      },
      "outputs": [],
      "source": [
        "class RnnModel(nn.Module):\n",
        "    def __init__(self, vocab_size, embedding_dim=32, filters=((2, 10), (3, 8))):\n",
        "        super().__init__()\n",
        "\n",
        "        self.embeddings_layer = nn.Embedding(vocab_size, embedding_dim)\n",
        "        self.lstm_layer = nn.LSTM(embedding_dim, embedding_dim, batch_first=True)\n",
        "        self.dropout_layer = nn.Dropout(0.2)\n",
        "        self.out_layer = nn.Linear(embedding_dim, 2)\n",
        "\n",
        "    def forward(self, inputs):\n",
        "        projections = self.embeddings_layer.forward(inputs)\n",
        "        output, (final_hidden_state, final_cell_state) = self.lstm_layer(projections)\n",
        "        hidden = self.dropout_layer(final_hidden_state[-1])\n",
        "        output = self.out_layer.forward(hidden)\n",
        "        return output\n",
        "\n",
        "model = RnnModel(vocabulary.size, 64)\n",
        "train_model(model, train_texts, train_labels, val_texts, val_labels)\n",
        "test_model(model, test_texts, test_labels)"
      ]
    }
  ],
  "metadata": {
    "accelerator": "GPU",
    "colab": {
      "provenance": []
    },
    "kernelspec": {
      "display_name": "Python 3",
      "name": "python3"
    },
    "language_info": {
      "codemirror_mode": {
        "name": "ipython",
        "version": 3
      },
      "file_extension": ".py",
      "mimetype": "text/x-python",
      "name": "python",
      "nbconvert_exporter": "python",
      "pygments_lexer": "ipython3",
      "version": "3.11.8"
    }
  },
  "nbformat": 4,
  "nbformat_minor": 0
}